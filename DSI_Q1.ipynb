{
  "nbformat": 4,
  "nbformat_minor": 0,
  "metadata": {
    "colab": {
      "name": "DSI_Q1.ipynb",
      "provenance": [],
      "collapsed_sections": []
    },
    "kernelspec": {
      "name": "python3",
      "display_name": "Python 3"
    },
    "language_info": {
      "name": "python"
    }
  },
  "cells": [
    {
      "cell_type": "code",
      "source": [
        "from shapely.geometry import Point, LineString, Polygon"
      ],
      "metadata": {
        "id": "XY-DmE7-7YmT"
      },
      "execution_count": 6,
      "outputs": []
    },
    {
      "cell_type": "code",
      "source": [
        "Hexagon = Polygon([(50,-100), (-50,-100), (-100,0), (-50,100), (50,100), (100,0)])"
      ],
      "metadata": {
        "id": "Hbb3aqbr-_t4"
      },
      "execution_count": 7,
      "outputs": []
    },
    {
      "cell_type": "code",
      "source": [
        "Hexagon"
      ],
      "metadata": {
        "colab": {
          "base_uri": "https://localhost:8080/",
          "height": 237
        },
        "id": "TSXDsHR8LU77",
        "outputId": "e32bf2c1-6b4b-4b67-8e89-e3447396c870"
      },
      "execution_count": 8,
      "outputs": [
        {
          "output_type": "execute_result",
          "data": {
            "text/plain": [
              "<shapely.geometry.polygon.Polygon at 0x7f7b8f08c810>"
            ],
            "image/svg+xml": "<svg xmlns=\"http://www.w3.org/2000/svg\" xmlns:xlink=\"http://www.w3.org/1999/xlink\" width=\"216.0\" height=\"216.0\" viewBox=\"-108.0 -108.0 216.0 216.0\" preserveAspectRatio=\"xMinYMin meet\"><g transform=\"matrix(1,0,0,-1,0,0.0)\"><path fill-rule=\"evenodd\" fill=\"#66cc99\" stroke=\"#555555\" stroke-width=\"2.0\" opacity=\"0.6\" d=\"M 50.0,-100.0 L -50.0,-100.0 L -100.0,0.0 L -50.0,100.0 L 50.0,100.0 L 100.0,0.0 L 50.0,-100.0 z\" /></g></svg>"
          },
          "metadata": {},
          "execution_count": 8
        }
      ]
    },
    {
      "cell_type": "code",
      "source": [
        "P = Point(24, 60)"
      ],
      "metadata": {
        "id": "u4K2Aw4xP1BK"
      },
      "execution_count": 9,
      "outputs": []
    },
    {
      "cell_type": "code",
      "source": [
        "P.within(Hexagon)"
      ],
      "metadata": {
        "colab": {
          "base_uri": "https://localhost:8080/"
        },
        "id": "Ht7mQZynRZwU",
        "outputId": "ef787505-50f8-4b01-d2c2-667a373b3be7"
      },
      "execution_count": 10,
      "outputs": [
        {
          "output_type": "execute_result",
          "data": {
            "text/plain": [
              "True"
            ]
          },
          "metadata": {},
          "execution_count": 10
        }
      ]
    },
    {
      "cell_type": "code",
      "source": [
        "T = Polygon([P, (-50,100), (50,100)])\n",
        "T"
      ],
      "metadata": {
        "colab": {
          "base_uri": "https://localhost:8080/",
          "height": 121
        },
        "id": "IPsbmckJQp5b",
        "outputId": "bb2e20cc-505a-45e2-cac4-75a6cc8e5996"
      },
      "execution_count": 11,
      "outputs": [
        {
          "output_type": "execute_result",
          "data": {
            "text/plain": [
              "<shapely.geometry.polygon.Polygon at 0x7f7b8f0a5cd0>"
            ],
            "image/svg+xml": "<svg xmlns=\"http://www.w3.org/2000/svg\" xmlns:xlink=\"http://www.w3.org/1999/xlink\" width=\"108.0\" height=\"100.0\" viewBox=\"-54.0 56.0 108.0 48.0\" preserveAspectRatio=\"xMinYMin meet\"><g transform=\"matrix(1,0,0,-1,0,160.0)\"><path fill-rule=\"evenodd\" fill=\"#66cc99\" stroke=\"#555555\" stroke-width=\"2.0\" opacity=\"0.6\" d=\"M 24.0,60.0 L -50.0,100.0 L 50.0,100.0 L 24.0,60.0 z\" /></g></svg>"
          },
          "metadata": {},
          "execution_count": 11
        }
      ]
    },
    {
      "cell_type": "code",
      "source": [
        "print(T.centroid)\n"
      ],
      "metadata": {
        "colab": {
          "base_uri": "https://localhost:8080/"
        },
        "id": "P__ysQ95RiIz",
        "outputId": "fec7c463-fa54-4f1a-9c65-00cf7866a879"
      },
      "execution_count": 12,
      "outputs": [
        {
          "output_type": "stream",
          "name": "stdout",
          "text": [
            "POINT (8 86.66666666666667)\n"
          ]
        }
      ]
    },
    {
      "cell_type": "code",
      "source": [
        "P=(T.centroid)"
      ],
      "metadata": {
        "id": "sbXA0zFMV1nd"
      },
      "execution_count": 13,
      "outputs": []
    },
    {
      "cell_type": "code",
      "source": [
        "print(P)"
      ],
      "metadata": {
        "colab": {
          "base_uri": "https://localhost:8080/"
        },
        "id": "JlDoMEiaWDUO",
        "outputId": "6a1bd1ec-5e81-45c2-f85b-e4003b1c6b5d"
      },
      "execution_count": 14,
      "outputs": [
        {
          "output_type": "stream",
          "name": "stdout",
          "text": [
            "POINT (8 86.66666666666667)\n"
          ]
        }
      ]
    },
    {
      "cell_type": "code",
      "source": [
        "T = Polygon([P, (-50,100), (-100,0)])\n",
        "T"
      ],
      "metadata": {
        "colab": {
          "base_uri": "https://localhost:8080/",
          "height": 129
        },
        "id": "sr5iLHRbWE6p",
        "outputId": "5ae47826-eb01-44e4-aa06-2ea49ee0c193"
      },
      "execution_count": 15,
      "outputs": [
        {
          "output_type": "execute_result",
          "data": {
            "text/plain": [
              "<shapely.geometry.polygon.Polygon at 0x7f7b8f0bbdd0>"
            ],
            "image/svg+xml": "<svg xmlns=\"http://www.w3.org/2000/svg\" xmlns:xlink=\"http://www.w3.org/1999/xlink\" width=\"116.63999999999999\" height=\"108.63999999999999\" viewBox=\"-104.32 -4.32 116.63999999999999 108.63999999999999\" preserveAspectRatio=\"xMinYMin meet\"><g transform=\"matrix(1,0,0,-1,0,100.0)\"><path fill-rule=\"evenodd\" fill=\"#66cc99\" stroke=\"#555555\" stroke-width=\"2.0\" opacity=\"0.6\" d=\"M 8.0,86.66666666666667 L -50.0,100.0 L -100.0,0.0 L 8.0,86.66666666666667 z\" /></g></svg>"
          },
          "metadata": {},
          "execution_count": 15
        }
      ]
    },
    {
      "cell_type": "code",
      "source": [
        "print(T.centroid)"
      ],
      "metadata": {
        "colab": {
          "base_uri": "https://localhost:8080/"
        },
        "id": "CbuNNP7MXL9n",
        "outputId": "19f39795-8443-4147-da67-1c6d286c126c"
      },
      "execution_count": 16,
      "outputs": [
        {
          "output_type": "stream",
          "name": "stdout",
          "text": [
            "POINT (-47.33333333333334 62.22222222222222)\n"
          ]
        }
      ]
    },
    {
      "cell_type": "code",
      "source": [
        "P=(T.centroid)\n",
        "print(P)"
      ],
      "metadata": {
        "colab": {
          "base_uri": "https://localhost:8080/"
        },
        "id": "ofGlAs5oXb-R",
        "outputId": "5b30982c-905a-436e-ed67-a63e92bd74f1"
      },
      "execution_count": 17,
      "outputs": [
        {
          "output_type": "stream",
          "name": "stdout",
          "text": [
            "POINT (-47.33333333333334 62.22222222222222)\n"
          ]
        }
      ]
    },
    {
      "cell_type": "code",
      "source": [
        "from math import sqrt\n",
        "from random import randrange, random\n",
        "from matplotlib import pyplot\n"
      ],
      "metadata": {
        "id": "DLY8B1Rt1AGv"
      },
      "execution_count": 3,
      "outputs": []
    },
    {
      "cell_type": "code",
      "source": [
        "vectors = [(-1.,0),(.5,sqrt(3.)/2.),(.5,-sqrt(3.)/2.)]\n",
        "\n",
        "def randinunithex():\n",
        "    x = randrange(3);\n",
        "    (v1,v2) = (vectors[x], vectors[(x+1)%3])\n",
        "    (x,y) = (random(),random())\n",
        "    return (x*v1[0]+y*v2[0],x*v1[1]+y*v2[1])\n",
        "\n",
        "for n in range(10000):\n",
        "    v = randinunithex()\n",
        "    pyplot.plot([v[0]],[v[1]],'ro')\n",
        "\n",
        "pyplot.show()\n"
      ],
      "metadata": {
        "id": "VDG61Q9e0H6_",
        "colab": {
          "base_uri": "https://localhost:8080/",
          "height": 265
        },
        "outputId": "331a8916-9744-4ca7-859c-cd9107202ec2"
      },
      "execution_count": 21,
      "outputs": [
        {
          "output_type": "display_data",
          "data": {
            "image/png": "[encoded data removed]",
            "text/plain": [
              "<Figure size 432x288 with 1 Axes>"
            ]
          },
          "metadata": {
            "needs_background": "light"
          }
        }
      ]
    },
    {
      "cell_type": "code",
      "source": [
        ""
      ],
      "metadata": {
        "id": "3yqpg6HzQ3du"
      },
      "execution_count": null,
      "outputs": []
    }
  ]
}