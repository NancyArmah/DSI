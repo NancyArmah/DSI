{
  "cells": [
    {
      "cell_type": "code",
      "execution_count": null,
      "metadata": {
        "id": "2573cd63"
      },
      "outputs": [],
      "source": [
        "import pandas as pd\n",
        "import numpy as np"
      ],
      "id": "2573cd63"
    },
    {
      "cell_type": "markdown",
      "metadata": {
        "id": "9a1c9c97"
      },
      "source": [
        "# Q.1"
      ],
      "id": "9a1c9c97"
    },
    {
      "cell_type": "code",
      "execution_count": null,
      "metadata": {
        "id": "skiswudhIOu3"
      },
      "outputs": [],
      "source": [
        "df1=pd.read_csv('data.tsv', sep='\\t')"
      ],
      "id": "skiswudhIOu3"
    },
    {
      "cell_type": "code",
      "execution_count": null,
      "metadata": {
        "colab": {
          "base_uri": "https://localhost:8080/",
          "height": 359
        },
        "id": "Cx85R6YOI1g8",
        "outputId": "76e97309-ca0c-44d0-ae7d-6ed365dd46a3"
      },
      "outputs": [
        {
          "data": {
            "text/html": [
              "\n",
              "  <div id=\"df-3faa4b1e-89b3-420e-9232-9e2e7dea4bcd\">\n",
              "    <div class=\"colab-df-container\">\n",
              "      <div>\n",
              "<style scoped>\n",
              "    .dataframe tbody tr th:only-of-type {\n",
              "        vertical-align: middle;\n",
              "    }\n",
              "\n",
              "    .dataframe tbody tr th {\n",
              "        vertical-align: top;\n",
              "    }\n",
              "\n",
              "    .dataframe thead th {\n",
              "        text-align: right;\n",
              "    }\n",
              "</style>\n",
              "<table border=\"1\" class=\"dataframe\">\n",
              "  <thead>\n",
              "    <tr style=\"text-align: right;\">\n",
              "      <th></th>\n",
              "      <th>tconst</th>\n",
              "      <th>averageRating</th>\n",
              "      <th>numVotes</th>\n",
              "    </tr>\n",
              "  </thead>\n",
              "  <tbody>\n",
              "    <tr>\n",
              "      <th>0</th>\n",
              "      <td>tt0000001</td>\n",
              "      <td>5.8</td>\n",
              "      <td>1422.0</td>\n",
              "    </tr>\n",
              "    <tr>\n",
              "      <th>1</th>\n",
              "      <td>tt0000002</td>\n",
              "      <td>6.4</td>\n",
              "      <td>168.0</td>\n",
              "    </tr>\n",
              "    <tr>\n",
              "      <th>2</th>\n",
              "      <td>tt0000003</td>\n",
              "      <td>6.6</td>\n",
              "      <td>1015.0</td>\n",
              "    </tr>\n",
              "    <tr>\n",
              "      <th>3</th>\n",
              "      <td>tt0000004</td>\n",
              "      <td>6.4</td>\n",
              "      <td>100.0</td>\n",
              "    </tr>\n",
              "    <tr>\n",
              "      <th>4</th>\n",
              "      <td>tt0000005</td>\n",
              "      <td>6.2</td>\n",
              "      <td>1713.0</td>\n",
              "    </tr>\n",
              "    <tr>\n",
              "      <th>5</th>\n",
              "      <td>tt0000006</td>\n",
              "      <td>5.5</td>\n",
              "      <td>88.0</td>\n",
              "    </tr>\n",
              "    <tr>\n",
              "      <th>6</th>\n",
              "      <td>tt0000007</td>\n",
              "      <td>5.5</td>\n",
              "      <td>573.0</td>\n",
              "    </tr>\n",
              "    <tr>\n",
              "      <th>7</th>\n",
              "      <td>tt0000008</td>\n",
              "      <td>5.6</td>\n",
              "      <td>1526.0</td>\n",
              "    </tr>\n",
              "    <tr>\n",
              "      <th>8</th>\n",
              "      <td>tt0000009</td>\n",
              "      <td>5.5</td>\n",
              "      <td>70.0</td>\n",
              "    </tr>\n",
              "    <tr>\n",
              "      <th>9</th>\n",
              "      <td>tt0000010</td>\n",
              "      <td>6.9</td>\n",
              "      <td>5083.0</td>\n",
              "    </tr>\n",
              "  </tbody>\n",
              "</table>\n",
              "</div>\n",
              "      <button class=\"colab-df-convert\" onclick=\"convertToInteractive('df-3faa4b1e-89b3-420e-9232-9e2e7dea4bcd')\"\n",
              "              title=\"Convert this dataframe to an interactive table.\"\n",
              "              style=\"display:none;\">\n",
              "        \n",
              "  <svg xmlns=\"http://www.w3.org/2000/svg\" height=\"24px\"viewBox=\"0 0 24 24\"\n",
              "       width=\"24px\">\n",
              "    <path d=\"M0 0h24v24H0V0z\" fill=\"none\"/>\n",
              "    <path d=\"M18.56 5.44l.94 2.06.94-2.06 2.06-.94-2.06-.94-.94-2.06-.94 2.06-2.06.94zm-11 1L8.5 8.5l.94-2.06 2.06-.94-2.06-.94L8.5 2.5l-.94 2.06-2.06.94zm10 10l.94 2.06.94-2.06 2.06-.94-2.06-.94-.94-2.06-.94 2.06-2.06.94z\"/><path d=\"M17.41 7.96l-1.37-1.37c-.4-.4-.92-.59-1.43-.59-.52 0-1.04.2-1.43.59L10.3 9.45l-7.72 7.72c-.78.78-.78 2.05 0 2.83L4 21.41c.39.39.9.59 1.41.59.51 0 1.02-.2 1.41-.59l7.78-7.78 2.81-2.81c.8-.78.8-2.07 0-2.86zM5.41 20L4 18.59l7.72-7.72 1.47 1.35L5.41 20z\"/>\n",
              "  </svg>\n",
              "      </button>\n",
              "      \n",
              "  <style>\n",
              "    .colab-df-container {\n",
              "      display:flex;\n",
              "      flex-wrap:wrap;\n",
              "      gap: 12px;\n",
              "    }\n",
              "\n",
              "    .colab-df-convert {\n",
              "      background-color: #E8F0FE;\n",
              "      border: none;\n",
              "      border-radius: 50%;\n",
              "      cursor: pointer;\n",
              "      display: none;\n",
              "      fill: #1967D2;\n",
              "      height: 32px;\n",
              "      padding: 0 0 0 0;\n",
              "      width: 32px;\n",
              "    }\n",
              "\n",
              "    .colab-df-convert:hover {\n",
              "      background-color: #E2EBFA;\n",
              "      box-shadow: 0px 1px 2px rgba(60, 64, 67, 0.3), 0px 1px 3px 1px rgba(60, 64, 67, 0.15);\n",
              "      fill: #174EA6;\n",
              "    }\n",
              "\n",
              "    [theme=dark] .colab-df-convert {\n",
              "      background-color: #3B4455;\n",
              "      fill: #D2E3FC;\n",
              "    }\n",
              "\n",
              "    [theme=dark] .colab-df-convert:hover {\n",
              "      background-color: #434B5C;\n",
              "      box-shadow: 0px 1px 3px 1px rgba(0, 0, 0, 0.15);\n",
              "      filter: drop-shadow(0px 1px 2px rgba(0, 0, 0, 0.3));\n",
              "      fill: #FFFFFF;\n",
              "    }\n",
              "  </style>\n",
              "\n",
              "      <script>\n",
              "        const buttonEl =\n",
              "          document.querySelector('#df-3faa4b1e-89b3-420e-9232-9e2e7dea4bcd button.colab-df-convert');\n",
              "        buttonEl.style.display =\n",
              "          google.colab.kernel.accessAllowed ? 'block' : 'none';\n",
              "\n",
              "        async function convertToInteractive(key) {\n",
              "          const element = document.querySelector('#df-3faa4b1e-89b3-420e-9232-9e2e7dea4bcd');\n",
              "          const dataTable =\n",
              "            await google.colab.kernel.invokeFunction('convertToInteractive',\n",
              "                                                     [key], {});\n",
              "          if (!dataTable) return;\n",
              "\n",
              "          const docLinkHtml = 'Like what you see? Visit the ' +\n",
              "            '<a target=\"_blank\" href=https://colab.research.google.com/notebooks/data_table.ipynb>data table notebook</a>'\n",
              "            + ' to learn more about interactive tables.';\n",
              "          element.innerHTML = '';\n",
              "          dataTable['output_type'] = 'display_data';\n",
              "          await google.colab.output.renderOutput(dataTable, element);\n",
              "          const docLink = document.createElement('div');\n",
              "          docLink.innerHTML = docLinkHtml;\n",
              "          element.appendChild(docLink);\n",
              "        }\n",
              "      </script>\n",
              "    </div>\n",
              "  </div>\n",
              "  "
            ],
            "text/plain": [
              "      tconst  averageRating  numVotes\n",
              "0  tt0000001            5.8    1422.0\n",
              "1  tt0000002            6.4     168.0\n",
              "2  tt0000003            6.6    1015.0\n",
              "3  tt0000004            6.4     100.0\n",
              "4  tt0000005            6.2    1713.0\n",
              "5  tt0000006            5.5      88.0\n",
              "6  tt0000007            5.5     573.0\n",
              "7  tt0000008            5.6    1526.0\n",
              "8  tt0000009            5.5      70.0\n",
              "9  tt0000010            6.9    5083.0"
            ]
          },
          "execution_count": 3,
          "metadata": {},
          "output_type": "execute_result"
        }
      ],
      "source": [
        "df1.head(10)"
      ],
      "id": "Cx85R6YOI1g8"
    },
    {
      "cell_type": "code",
      "execution_count": null,
      "metadata": {
        "id": "2i-K_uW_TKe3"
      },
      "outputs": [],
      "source": [
        "\n",
        "df2=pd.read_csv('data-2.tsv', sep='\\t')"
      ],
      "id": "2i-K_uW_TKe3"
    },
    {
      "cell_type": "code",
      "execution_count": null,
      "metadata": {
        "colab": {
          "base_uri": "https://localhost:8080/",
          "height": 359
        },
        "id": "1KvIqmh5TOq2",
        "outputId": "2915139d-2588-40bb-a88d-02a649197952"
      },
      "outputs": [
        {
          "data": {
            "text/html": [
              "\n",
              "  <div id=\"df-8e5c0d22-3bc3-4393-a086-638e81f4c5e7\">\n",
              "    <div class=\"colab-df-container\">\n",
              "      <div>\n",
              "<style scoped>\n",
              "    .dataframe tbody tr th:only-of-type {\n",
              "        vertical-align: middle;\n",
              "    }\n",
              "\n",
              "    .dataframe tbody tr th {\n",
              "        vertical-align: top;\n",
              "    }\n",
              "\n",
              "    .dataframe thead th {\n",
              "        text-align: right;\n",
              "    }\n",
              "</style>\n",
              "<table border=\"1\" class=\"dataframe\">\n",
              "  <thead>\n",
              "    <tr style=\"text-align: right;\">\n",
              "      <th></th>\n",
              "      <th>titleId</th>\n",
              "      <th>ordering</th>\n",
              "      <th>title</th>\n",
              "      <th>region</th>\n",
              "      <th>language</th>\n",
              "      <th>types</th>\n",
              "      <th>attributes</th>\n",
              "      <th>isOriginalTitle</th>\n",
              "    </tr>\n",
              "  </thead>\n",
              "  <tbody>\n",
              "    <tr>\n",
              "      <th>0</th>\n",
              "      <td>tt0000001</td>\n",
              "      <td>1</td>\n",
              "      <td>Carmencita - spanyol tánc</td>\n",
              "      <td>HU</td>\n",
              "      <td>\\N</td>\n",
              "      <td>imdbDisplay</td>\n",
              "      <td>\\N</td>\n",
              "      <td>0.0</td>\n",
              "    </tr>\n",
              "    <tr>\n",
              "      <th>1</th>\n",
              "      <td>tt0000001</td>\n",
              "      <td>2</td>\n",
              "      <td>Карменсита</td>\n",
              "      <td>RU</td>\n",
              "      <td>\\N</td>\n",
              "      <td>\\N</td>\n",
              "      <td>\\N</td>\n",
              "      <td>0.0</td>\n",
              "    </tr>\n",
              "    <tr>\n",
              "      <th>2</th>\n",
              "      <td>tt0000001</td>\n",
              "      <td>3</td>\n",
              "      <td>Carmencita</td>\n",
              "      <td>US</td>\n",
              "      <td>\\N</td>\n",
              "      <td>\\N</td>\n",
              "      <td>\\N</td>\n",
              "      <td>0.0</td>\n",
              "    </tr>\n",
              "    <tr>\n",
              "      <th>3</th>\n",
              "      <td>tt0000001</td>\n",
              "      <td>4</td>\n",
              "      <td>Carmencita</td>\n",
              "      <td>\\N</td>\n",
              "      <td>\\N</td>\n",
              "      <td>original</td>\n",
              "      <td>\\N</td>\n",
              "      <td>1.0</td>\n",
              "    </tr>\n",
              "    <tr>\n",
              "      <th>4</th>\n",
              "      <td>tt0000002</td>\n",
              "      <td>1</td>\n",
              "      <td>Le clown et ses chiens</td>\n",
              "      <td>\\N</td>\n",
              "      <td>\\N</td>\n",
              "      <td>original</td>\n",
              "      <td>\\N</td>\n",
              "      <td>1.0</td>\n",
              "    </tr>\n",
              "    <tr>\n",
              "      <th>5</th>\n",
              "      <td>tt0000002</td>\n",
              "      <td>2</td>\n",
              "      <td>A bohóc és kutyái</td>\n",
              "      <td>HU</td>\n",
              "      <td>\\N</td>\n",
              "      <td>imdbDisplay</td>\n",
              "      <td>\\N</td>\n",
              "      <td>0.0</td>\n",
              "    </tr>\n",
              "    <tr>\n",
              "      <th>6</th>\n",
              "      <td>tt0000002</td>\n",
              "      <td>3</td>\n",
              "      <td>Le clown et ses chiens</td>\n",
              "      <td>FR</td>\n",
              "      <td>\\N</td>\n",
              "      <td>\\N</td>\n",
              "      <td>\\N</td>\n",
              "      <td>0.0</td>\n",
              "    </tr>\n",
              "    <tr>\n",
              "      <th>7</th>\n",
              "      <td>tt0000002</td>\n",
              "      <td>4</td>\n",
              "      <td>Clovnul si cainii sai</td>\n",
              "      <td>RO</td>\n",
              "      <td>\\N</td>\n",
              "      <td>imdbDisplay</td>\n",
              "      <td>\\N</td>\n",
              "      <td>0.0</td>\n",
              "    </tr>\n",
              "    <tr>\n",
              "      <th>8</th>\n",
              "      <td>tt0000002</td>\n",
              "      <td>5</td>\n",
              "      <td>The Clown and His Dogs</td>\n",
              "      <td>US</td>\n",
              "      <td>\\N</td>\n",
              "      <td>\\N</td>\n",
              "      <td>literal English title</td>\n",
              "      <td>0.0</td>\n",
              "    </tr>\n",
              "    <tr>\n",
              "      <th>9</th>\n",
              "      <td>tt0000002</td>\n",
              "      <td>6</td>\n",
              "      <td>Клоун и его собаки</td>\n",
              "      <td>RU</td>\n",
              "      <td>\\N</td>\n",
              "      <td>\\N</td>\n",
              "      <td>\\N</td>\n",
              "      <td>0.0</td>\n",
              "    </tr>\n",
              "  </tbody>\n",
              "</table>\n",
              "</div>\n",
              "      <button class=\"colab-df-convert\" onclick=\"convertToInteractive('df-8e5c0d22-3bc3-4393-a086-638e81f4c5e7')\"\n",
              "              title=\"Convert this dataframe to an interactive table.\"\n",
              "              style=\"display:none;\">\n",
              "        \n",
              "  <svg xmlns=\"http://www.w3.org/2000/svg\" height=\"24px\"viewBox=\"0 0 24 24\"\n",
              "       width=\"24px\">\n",
              "    <path d=\"M0 0h24v24H0V0z\" fill=\"none\"/>\n",
              "    <path d=\"M18.56 5.44l.94 2.06.94-2.06 2.06-.94-2.06-.94-.94-2.06-.94 2.06-2.06.94zm-11 1L8.5 8.5l.94-2.06 2.06-.94-2.06-.94L8.5 2.5l-.94 2.06-2.06.94zm10 10l.94 2.06.94-2.06 2.06-.94-2.06-.94-.94-2.06-.94 2.06-2.06.94z\"/><path d=\"M17.41 7.96l-1.37-1.37c-.4-.4-.92-.59-1.43-.59-.52 0-1.04.2-1.43.59L10.3 9.45l-7.72 7.72c-.78.78-.78 2.05 0 2.83L4 21.41c.39.39.9.59 1.41.59.51 0 1.02-.2 1.41-.59l7.78-7.78 2.81-2.81c.8-.78.8-2.07 0-2.86zM5.41 20L4 18.59l7.72-7.72 1.47 1.35L5.41 20z\"/>\n",
              "  </svg>\n",
              "      </button>\n",
              "      \n",
              "  <style>\n",
              "    .colab-df-container {\n",
              "      display:flex;\n",
              "      flex-wrap:wrap;\n",
              "      gap: 12px;\n",
              "    }\n",
              "\n",
              "    .colab-df-convert {\n",
              "      background-color: #E8F0FE;\n",
              "      border: none;\n",
              "      border-radius: 50%;\n",
              "      cursor: pointer;\n",
              "      display: none;\n",
              "      fill: #1967D2;\n",
              "      height: 32px;\n",
              "      padding: 0 0 0 0;\n",
              "      width: 32px;\n",
              "    }\n",
              "\n",
              "    .colab-df-convert:hover {\n",
              "      background-color: #E2EBFA;\n",
              "      box-shadow: 0px 1px 2px rgba(60, 64, 67, 0.3), 0px 1px 3px 1px rgba(60, 64, 67, 0.15);\n",
              "      fill: #174EA6;\n",
              "    }\n",
              "\n",
              "    [theme=dark] .colab-df-convert {\n",
              "      background-color: #3B4455;\n",
              "      fill: #D2E3FC;\n",
              "    }\n",
              "\n",
              "    [theme=dark] .colab-df-convert:hover {\n",
              "      background-color: #434B5C;\n",
              "      box-shadow: 0px 1px 3px 1px rgba(0, 0, 0, 0.15);\n",
              "      filter: drop-shadow(0px 1px 2px rgba(0, 0, 0, 0.3));\n",
              "      fill: #FFFFFF;\n",
              "    }\n",
              "  </style>\n",
              "\n",
              "      <script>\n",
              "        const buttonEl =\n",
              "          document.querySelector('#df-8e5c0d22-3bc3-4393-a086-638e81f4c5e7 button.colab-df-convert');\n",
              "        buttonEl.style.display =\n",
              "          google.colab.kernel.accessAllowed ? 'block' : 'none';\n",
              "\n",
              "        async function convertToInteractive(key) {\n",
              "          const element = document.querySelector('#df-8e5c0d22-3bc3-4393-a086-638e81f4c5e7');\n",
              "          const dataTable =\n",
              "            await google.colab.kernel.invokeFunction('convertToInteractive',\n",
              "                                                     [key], {});\n",
              "          if (!dataTable) return;\n",
              "\n",
              "          const docLinkHtml = 'Like what you see? Visit the ' +\n",
              "            '<a target=\"_blank\" href=https://colab.research.google.com/notebooks/data_table.ipynb>data table notebook</a>'\n",
              "            + ' to learn more about interactive tables.';\n",
              "          element.innerHTML = '';\n",
              "          dataTable['output_type'] = 'display_data';\n",
              "          await google.colab.output.renderOutput(dataTable, element);\n",
              "          const docLink = document.createElement('div');\n",
              "          docLink.innerHTML = docLinkHtml;\n",
              "          element.appendChild(docLink);\n",
              "        }\n",
              "      </script>\n",
              "    </div>\n",
              "  </div>\n",
              "  "
            ],
            "text/plain": [
              "     titleId  ordering  ...             attributes isOriginalTitle\n",
              "0  tt0000001         1  ...                     \\N             0.0\n",
              "1  tt0000001         2  ...                     \\N             0.0\n",
              "2  tt0000001         3  ...                     \\N             0.0\n",
              "3  tt0000001         4  ...                     \\N             1.0\n",
              "4  tt0000002         1  ...                     \\N             1.0\n",
              "5  tt0000002         2  ...                     \\N             0.0\n",
              "6  tt0000002         3  ...                     \\N             0.0\n",
              "7  tt0000002         4  ...                     \\N             0.0\n",
              "8  tt0000002         5  ...  literal English title             0.0\n",
              "9  tt0000002         6  ...                     \\N             0.0\n",
              "\n",
              "[10 rows x 8 columns]"
            ]
          },
          "execution_count": 5,
          "metadata": {},
          "output_type": "execute_result"
        }
      ],
      "source": [
        "df2.head(10)"
      ],
      "id": "1KvIqmh5TOq2"
    },
    {
      "cell_type": "code",
      "execution_count": null,
      "metadata": {
        "id": "XQMO6c14TSsk"
      },
      "outputs": [],
      "source": [
        "df3=pd.read_csv('data-3.tsv', sep='\\t')"
      ],
      "id": "XQMO6c14TSsk"
    },
    {
      "cell_type": "code",
      "execution_count": null,
      "metadata": {
        "colab": {
          "base_uri": "https://localhost:8080/",
          "height": 544
        },
        "id": "Q3KTIncUTSkt",
        "outputId": "cab2a339-8167-430c-f5da-c8ec316fc650"
      },
      "outputs": [
        {
          "data": {
            "text/html": [
              "\n",
              "  <div id=\"df-f5b10315-59e1-484e-a7b0-e8a766038f25\">\n",
              "    <div class=\"colab-df-container\">\n",
              "      <div>\n",
              "<style scoped>\n",
              "    .dataframe tbody tr th:only-of-type {\n",
              "        vertical-align: middle;\n",
              "    }\n",
              "\n",
              "    .dataframe tbody tr th {\n",
              "        vertical-align: top;\n",
              "    }\n",
              "\n",
              "    .dataframe thead th {\n",
              "        text-align: right;\n",
              "    }\n",
              "</style>\n",
              "<table border=\"1\" class=\"dataframe\">\n",
              "  <thead>\n",
              "    <tr style=\"text-align: right;\">\n",
              "      <th></th>\n",
              "      <th>tconst</th>\n",
              "      <th>titleType</th>\n",
              "      <th>primaryTitle</th>\n",
              "      <th>originalTitle</th>\n",
              "      <th>isAdult</th>\n",
              "      <th>startYear</th>\n",
              "      <th>endYear</th>\n",
              "      <th>runtimeMinutes</th>\n",
              "      <th>genres</th>\n",
              "    </tr>\n",
              "  </thead>\n",
              "  <tbody>\n",
              "    <tr>\n",
              "      <th>0</th>\n",
              "      <td>tt0000001</td>\n",
              "      <td>short</td>\n",
              "      <td>Carmencita</td>\n",
              "      <td>Carmencita</td>\n",
              "      <td>0.0</td>\n",
              "      <td>1894.0</td>\n",
              "      <td>\\N</td>\n",
              "      <td>1</td>\n",
              "      <td>Documentary,Short</td>\n",
              "    </tr>\n",
              "    <tr>\n",
              "      <th>1</th>\n",
              "      <td>tt0000002</td>\n",
              "      <td>short</td>\n",
              "      <td>Le clown et ses chiens</td>\n",
              "      <td>Le clown et ses chiens</td>\n",
              "      <td>0.0</td>\n",
              "      <td>1892.0</td>\n",
              "      <td>\\N</td>\n",
              "      <td>5</td>\n",
              "      <td>Animation,Short</td>\n",
              "    </tr>\n",
              "    <tr>\n",
              "      <th>2</th>\n",
              "      <td>tt0000003</td>\n",
              "      <td>short</td>\n",
              "      <td>Pauvre Pierrot</td>\n",
              "      <td>Pauvre Pierrot</td>\n",
              "      <td>0.0</td>\n",
              "      <td>1892.0</td>\n",
              "      <td>\\N</td>\n",
              "      <td>4</td>\n",
              "      <td>Animation,Comedy,Romance</td>\n",
              "    </tr>\n",
              "    <tr>\n",
              "      <th>3</th>\n",
              "      <td>tt0000004</td>\n",
              "      <td>short</td>\n",
              "      <td>Un bon bock</td>\n",
              "      <td>Un bon bock</td>\n",
              "      <td>0.0</td>\n",
              "      <td>1892.0</td>\n",
              "      <td>\\N</td>\n",
              "      <td>\\N</td>\n",
              "      <td>Animation,Short</td>\n",
              "    </tr>\n",
              "    <tr>\n",
              "      <th>4</th>\n",
              "      <td>tt0000005</td>\n",
              "      <td>short</td>\n",
              "      <td>Blacksmith Scene</td>\n",
              "      <td>Blacksmith Scene</td>\n",
              "      <td>0.0</td>\n",
              "      <td>1893.0</td>\n",
              "      <td>\\N</td>\n",
              "      <td>1</td>\n",
              "      <td>Comedy,Short</td>\n",
              "    </tr>\n",
              "    <tr>\n",
              "      <th>5</th>\n",
              "      <td>tt0000006</td>\n",
              "      <td>short</td>\n",
              "      <td>Chinese Opium Den</td>\n",
              "      <td>Chinese Opium Den</td>\n",
              "      <td>0.0</td>\n",
              "      <td>1894.0</td>\n",
              "      <td>\\N</td>\n",
              "      <td>1</td>\n",
              "      <td>Short</td>\n",
              "    </tr>\n",
              "    <tr>\n",
              "      <th>6</th>\n",
              "      <td>tt0000007</td>\n",
              "      <td>short</td>\n",
              "      <td>Corbett and Courtney Before the Kinetograph</td>\n",
              "      <td>Corbett and Courtney Before the Kinetograph</td>\n",
              "      <td>0.0</td>\n",
              "      <td>1894.0</td>\n",
              "      <td>\\N</td>\n",
              "      <td>1</td>\n",
              "      <td>Short,Sport</td>\n",
              "    </tr>\n",
              "    <tr>\n",
              "      <th>7</th>\n",
              "      <td>tt0000008</td>\n",
              "      <td>short</td>\n",
              "      <td>Edison Kinetoscopic Record of a Sneeze</td>\n",
              "      <td>Edison Kinetoscopic Record of a Sneeze</td>\n",
              "      <td>0.0</td>\n",
              "      <td>1894.0</td>\n",
              "      <td>\\N</td>\n",
              "      <td>1</td>\n",
              "      <td>Documentary,Short</td>\n",
              "    </tr>\n",
              "    <tr>\n",
              "      <th>8</th>\n",
              "      <td>tt0000009</td>\n",
              "      <td>movie</td>\n",
              "      <td>Miss Jerry</td>\n",
              "      <td>Miss Jerry</td>\n",
              "      <td>0.0</td>\n",
              "      <td>1894.0</td>\n",
              "      <td>\\N</td>\n",
              "      <td>45</td>\n",
              "      <td>Romance</td>\n",
              "    </tr>\n",
              "    <tr>\n",
              "      <th>9</th>\n",
              "      <td>tt0000010</td>\n",
              "      <td>short</td>\n",
              "      <td>Employees Leaving the Lumière Factory</td>\n",
              "      <td>La sortie de l'usine Lumière à Lyon</td>\n",
              "      <td>0.0</td>\n",
              "      <td>1895.0</td>\n",
              "      <td>\\N</td>\n",
              "      <td>1</td>\n",
              "      <td>Documentary,Short</td>\n",
              "    </tr>\n",
              "  </tbody>\n",
              "</table>\n",
              "</div>\n",
              "      <button class=\"colab-df-convert\" onclick=\"convertToInteractive('df-f5b10315-59e1-484e-a7b0-e8a766038f25')\"\n",
              "              title=\"Convert this dataframe to an interactive table.\"\n",
              "              style=\"display:none;\">\n",
              "        \n",
              "  <svg xmlns=\"http://www.w3.org/2000/svg\" height=\"24px\"viewBox=\"0 0 24 24\"\n",
              "       width=\"24px\">\n",
              "    <path d=\"M0 0h24v24H0V0z\" fill=\"none\"/>\n",
              "    <path d=\"M18.56 5.44l.94 2.06.94-2.06 2.06-.94-2.06-.94-.94-2.06-.94 2.06-2.06.94zm-11 1L8.5 8.5l.94-2.06 2.06-.94-2.06-.94L8.5 2.5l-.94 2.06-2.06.94zm10 10l.94 2.06.94-2.06 2.06-.94-2.06-.94-.94-2.06-.94 2.06-2.06.94z\"/><path d=\"M17.41 7.96l-1.37-1.37c-.4-.4-.92-.59-1.43-.59-.52 0-1.04.2-1.43.59L10.3 9.45l-7.72 7.72c-.78.78-.78 2.05 0 2.83L4 21.41c.39.39.9.59 1.41.59.51 0 1.02-.2 1.41-.59l7.78-7.78 2.81-2.81c.8-.78.8-2.07 0-2.86zM5.41 20L4 18.59l7.72-7.72 1.47 1.35L5.41 20z\"/>\n",
              "  </svg>\n",
              "      </button>\n",
              "      \n",
              "  <style>\n",
              "    .colab-df-container {\n",
              "      display:flex;\n",
              "      flex-wrap:wrap;\n",
              "      gap: 12px;\n",
              "    }\n",
              "\n",
              "    .colab-df-convert {\n",
              "      background-color: #E8F0FE;\n",
              "      border: none;\n",
              "      border-radius: 50%;\n",
              "      cursor: pointer;\n",
              "      display: none;\n",
              "      fill: #1967D2;\n",
              "      height: 32px;\n",
              "      padding: 0 0 0 0;\n",
              "      width: 32px;\n",
              "    }\n",
              "\n",
              "    .colab-df-convert:hover {\n",
              "      background-color: #E2EBFA;\n",
              "      box-shadow: 0px 1px 2px rgba(60, 64, 67, 0.3), 0px 1px 3px 1px rgba(60, 64, 67, 0.15);\n",
              "      fill: #174EA6;\n",
              "    }\n",
              "\n",
              "    [theme=dark] .colab-df-convert {\n",
              "      background-color: #3B4455;\n",
              "      fill: #D2E3FC;\n",
              "    }\n",
              "\n",
              "    [theme=dark] .colab-df-convert:hover {\n",
              "      background-color: #434B5C;\n",
              "      box-shadow: 0px 1px 3px 1px rgba(0, 0, 0, 0.15);\n",
              "      filter: drop-shadow(0px 1px 2px rgba(0, 0, 0, 0.3));\n",
              "      fill: #FFFFFF;\n",
              "    }\n",
              "  </style>\n",
              "\n",
              "      <script>\n",
              "        const buttonEl =\n",
              "          document.querySelector('#df-f5b10315-59e1-484e-a7b0-e8a766038f25 button.colab-df-convert');\n",
              "        buttonEl.style.display =\n",
              "          google.colab.kernel.accessAllowed ? 'block' : 'none';\n",
              "\n",
              "        async function convertToInteractive(key) {\n",
              "          const element = document.querySelector('#df-f5b10315-59e1-484e-a7b0-e8a766038f25');\n",
              "          const dataTable =\n",
              "            await google.colab.kernel.invokeFunction('convertToInteractive',\n",
              "                                                     [key], {});\n",
              "          if (!dataTable) return;\n",
              "\n",
              "          const docLinkHtml = 'Like what you see? Visit the ' +\n",
              "            '<a target=\"_blank\" href=https://colab.research.google.com/notebooks/data_table.ipynb>data table notebook</a>'\n",
              "            + ' to learn more about interactive tables.';\n",
              "          element.innerHTML = '';\n",
              "          dataTable['output_type'] = 'display_data';\n",
              "          await google.colab.output.renderOutput(dataTable, element);\n",
              "          const docLink = document.createElement('div');\n",
              "          docLink.innerHTML = docLinkHtml;\n",
              "          element.appendChild(docLink);\n",
              "        }\n",
              "      </script>\n",
              "    </div>\n",
              "  </div>\n",
              "  "
            ],
            "text/plain": [
              "      tconst titleType  ... runtimeMinutes                    genres\n",
              "0  tt0000001     short  ...              1         Documentary,Short\n",
              "1  tt0000002     short  ...              5           Animation,Short\n",
              "2  tt0000003     short  ...              4  Animation,Comedy,Romance\n",
              "3  tt0000004     short  ...             \\N           Animation,Short\n",
              "4  tt0000005     short  ...              1              Comedy,Short\n",
              "5  tt0000006     short  ...              1                     Short\n",
              "6  tt0000007     short  ...              1               Short,Sport\n",
              "7  tt0000008     short  ...              1         Documentary,Short\n",
              "8  tt0000009     movie  ...             45                   Romance\n",
              "9  tt0000010     short  ...              1         Documentary,Short\n",
              "\n",
              "[10 rows x 9 columns]"
            ]
          },
          "execution_count": 7,
          "metadata": {},
          "output_type": "execute_result"
        }
      ],
      "source": [
        "df3.head(10)"
      ],
      "id": "Q3KTIncUTSkt"
    },
    {
      "cell_type": "markdown",
      "metadata": {
        "id": "47719047"
      },
      "source": [
        "# Q.2"
      ],
      "id": "47719047"
    },
    {
      "cell_type": "code",
      "execution_count": null,
      "metadata": {
        "colab": {
          "base_uri": "https://localhost:8080/"
        },
        "id": "bde968b3",
        "outputId": "6e575e29-c921-4be7-9b11-5a2fd9ef5a2d"
      },
      "outputs": [
        {
          "name": "stdout",
          "output_type": "stream",
          "text": [
            "Empty DataFrame\n",
            "Columns: [tconst, averageRating, numVotes]\n",
            "Index: []\n"
          ]
        }
      ],
      "source": [
        "duplicate=df1[df1.duplicated()]\n",
        "print(duplicate)"
      ],
      "id": "bde968b3"
    },
    {
      "cell_type": "code",
      "execution_count": null,
      "metadata": {
        "colab": {
          "base_uri": "https://localhost:8080/"
        },
        "id": "69d270e2",
        "outputId": "9f32e05d-46d3-4416-e1de-a107cede206d"
      },
      "outputs": [
        {
          "name": "stdout",
          "output_type": "stream",
          "text": [
            "Empty DataFrame\n",
            "Columns: [titleId, ordering, title, region, language, types, attributes, isOriginalTitle]\n",
            "Index: []\n"
          ]
        }
      ],
      "source": [
        "duplicate=df2[df2.duplicated()]\n",
        "print(duplicate)"
      ],
      "id": "69d270e2"
    },
    {
      "cell_type": "code",
      "execution_count": null,
      "metadata": {
        "colab": {
          "base_uri": "https://localhost:8080/"
        },
        "id": "17f703ef",
        "outputId": "f4cd0ae9-4046-40a3-da6e-f8337ca36320"
      },
      "outputs": [
        {
          "name": "stdout",
          "output_type": "stream",
          "text": [
            "Empty DataFrame\n",
            "Columns: [tconst, titleType, primaryTitle, originalTitle, isAdult, startYear, endYear, runtimeMinutes, genres]\n",
            "Index: []\n"
          ]
        }
      ],
      "source": [
        "duplicate=df3[df3.duplicated()]\n",
        "print(duplicate)"
      ],
      "id": "17f703ef"
    },
    {
      "cell_type": "code",
      "execution_count": null,
      "metadata": {
        "colab": {
          "base_uri": "https://localhost:8080/"
        },
        "id": "68c49eed",
        "outputId": "4057d34d-ab3c-4a68-f464-002fd2432b7e"
      },
      "outputs": [
        {
          "data": {
            "text/plain": [
              "0"
            ]
          },
          "execution_count": 11,
          "metadata": {},
          "output_type": "execute_result"
        }
      ],
      "source": [
        "df1.duplicated().sum()"
      ],
      "id": "68c49eed"
    },
    {
      "cell_type": "code",
      "execution_count": null,
      "metadata": {
        "colab": {
          "base_uri": "https://localhost:8080/"
        },
        "id": "34a34c8f",
        "outputId": "e8863068-5663-4c9a-e550-4d6d3f4f035b"
      },
      "outputs": [
        {
          "data": {
            "text/plain": [
              "0"
            ]
          },
          "execution_count": 12,
          "metadata": {},
          "output_type": "execute_result"
        }
      ],
      "source": [
        "df2.duplicated().sum()"
      ],
      "id": "34a34c8f"
    },
    {
      "cell_type": "code",
      "execution_count": null,
      "metadata": {
        "colab": {
          "base_uri": "https://localhost:8080/"
        },
        "id": "e3f37854",
        "outputId": "e0772f20-77d4-4eea-a629-4ad63fb0ca00"
      },
      "outputs": [
        {
          "data": {
            "text/plain": [
              "0"
            ]
          },
          "execution_count": 13,
          "metadata": {},
          "output_type": "execute_result"
        }
      ],
      "source": [
        "df3.duplicated().sum()"
      ],
      "id": "e3f37854"
    },
    {
      "cell_type": "code",
      "execution_count": null,
      "metadata": {
        "id": "2f789849"
      },
      "outputs": [],
      "source": [
        "df2.rename(columns = {'titleId':'tconst'}, inplace = True)"
      ],
      "id": "2f789849"
    },
    {
      "cell_type": "code",
      "execution_count": null,
      "metadata": {
        "colab": {
          "base_uri": "https://localhost:8080/",
          "height": 204
        },
        "id": "14c8047d",
        "outputId": "0f9cc4b7-f9f3-41c7-9b22-a56db2c3f786"
      },
      "outputs": [
        {
          "data": {
            "text/html": [
              "\n",
              "  <div id=\"df-bdf1fe7e-f319-44e9-9425-604a903ff749\">\n",
              "    <div class=\"colab-df-container\">\n",
              "      <div>\n",
              "<style scoped>\n",
              "    .dataframe tbody tr th:only-of-type {\n",
              "        vertical-align: middle;\n",
              "    }\n",
              "\n",
              "    .dataframe tbody tr th {\n",
              "        vertical-align: top;\n",
              "    }\n",
              "\n",
              "    .dataframe thead th {\n",
              "        text-align: right;\n",
              "    }\n",
              "</style>\n",
              "<table border=\"1\" class=\"dataframe\">\n",
              "  <thead>\n",
              "    <tr style=\"text-align: right;\">\n",
              "      <th></th>\n",
              "      <th>tconst</th>\n",
              "      <th>ordering</th>\n",
              "      <th>title</th>\n",
              "      <th>region</th>\n",
              "      <th>language</th>\n",
              "      <th>types</th>\n",
              "      <th>attributes</th>\n",
              "      <th>isOriginalTitle</th>\n",
              "    </tr>\n",
              "  </thead>\n",
              "  <tbody>\n",
              "    <tr>\n",
              "      <th>0</th>\n",
              "      <td>tt0000001</td>\n",
              "      <td>1</td>\n",
              "      <td>Carmencita - spanyol tánc</td>\n",
              "      <td>HU</td>\n",
              "      <td>\\N</td>\n",
              "      <td>imdbDisplay</td>\n",
              "      <td>\\N</td>\n",
              "      <td>0.0</td>\n",
              "    </tr>\n",
              "    <tr>\n",
              "      <th>1</th>\n",
              "      <td>tt0000001</td>\n",
              "      <td>2</td>\n",
              "      <td>Карменсита</td>\n",
              "      <td>RU</td>\n",
              "      <td>\\N</td>\n",
              "      <td>\\N</td>\n",
              "      <td>\\N</td>\n",
              "      <td>0.0</td>\n",
              "    </tr>\n",
              "    <tr>\n",
              "      <th>2</th>\n",
              "      <td>tt0000001</td>\n",
              "      <td>3</td>\n",
              "      <td>Carmencita</td>\n",
              "      <td>US</td>\n",
              "      <td>\\N</td>\n",
              "      <td>\\N</td>\n",
              "      <td>\\N</td>\n",
              "      <td>0.0</td>\n",
              "    </tr>\n",
              "    <tr>\n",
              "      <th>3</th>\n",
              "      <td>tt0000001</td>\n",
              "      <td>4</td>\n",
              "      <td>Carmencita</td>\n",
              "      <td>\\N</td>\n",
              "      <td>\\N</td>\n",
              "      <td>original</td>\n",
              "      <td>\\N</td>\n",
              "      <td>1.0</td>\n",
              "    </tr>\n",
              "    <tr>\n",
              "      <th>4</th>\n",
              "      <td>tt0000002</td>\n",
              "      <td>1</td>\n",
              "      <td>Le clown et ses chiens</td>\n",
              "      <td>\\N</td>\n",
              "      <td>\\N</td>\n",
              "      <td>original</td>\n",
              "      <td>\\N</td>\n",
              "      <td>1.0</td>\n",
              "    </tr>\n",
              "  </tbody>\n",
              "</table>\n",
              "</div>\n",
              "      <button class=\"colab-df-convert\" onclick=\"convertToInteractive('df-bdf1fe7e-f319-44e9-9425-604a903ff749')\"\n",
              "              title=\"Convert this dataframe to an interactive table.\"\n",
              "              style=\"display:none;\">\n",
              "        \n",
              "  <svg xmlns=\"http://www.w3.org/2000/svg\" height=\"24px\"viewBox=\"0 0 24 24\"\n",
              "       width=\"24px\">\n",
              "    <path d=\"M0 0h24v24H0V0z\" fill=\"none\"/>\n",
              "    <path d=\"M18.56 5.44l.94 2.06.94-2.06 2.06-.94-2.06-.94-.94-2.06-.94 2.06-2.06.94zm-11 1L8.5 8.5l.94-2.06 2.06-.94-2.06-.94L8.5 2.5l-.94 2.06-2.06.94zm10 10l.94 2.06.94-2.06 2.06-.94-2.06-.94-.94-2.06-.94 2.06-2.06.94z\"/><path d=\"M17.41 7.96l-1.37-1.37c-.4-.4-.92-.59-1.43-.59-.52 0-1.04.2-1.43.59L10.3 9.45l-7.72 7.72c-.78.78-.78 2.05 0 2.83L4 21.41c.39.39.9.59 1.41.59.51 0 1.02-.2 1.41-.59l7.78-7.78 2.81-2.81c.8-.78.8-2.07 0-2.86zM5.41 20L4 18.59l7.72-7.72 1.47 1.35L5.41 20z\"/>\n",
              "  </svg>\n",
              "      </button>\n",
              "      \n",
              "  <style>\n",
              "    .colab-df-container {\n",
              "      display:flex;\n",
              "      flex-wrap:wrap;\n",
              "      gap: 12px;\n",
              "    }\n",
              "\n",
              "    .colab-df-convert {\n",
              "      background-color: #E8F0FE;\n",
              "      border: none;\n",
              "      border-radius: 50%;\n",
              "      cursor: pointer;\n",
              "      display: none;\n",
              "      fill: #1967D2;\n",
              "      height: 32px;\n",
              "      padding: 0 0 0 0;\n",
              "      width: 32px;\n",
              "    }\n",
              "\n",
              "    .colab-df-convert:hover {\n",
              "      background-color: #E2EBFA;\n",
              "      box-shadow: 0px 1px 2px rgba(60, 64, 67, 0.3), 0px 1px 3px 1px rgba(60, 64, 67, 0.15);\n",
              "      fill: #174EA6;\n",
              "    }\n",
              "\n",
              "    [theme=dark] .colab-df-convert {\n",
              "      background-color: #3B4455;\n",
              "      fill: #D2E3FC;\n",
              "    }\n",
              "\n",
              "    [theme=dark] .colab-df-convert:hover {\n",
              "      background-color: #434B5C;\n",
              "      box-shadow: 0px 1px 3px 1px rgba(0, 0, 0, 0.15);\n",
              "      filter: drop-shadow(0px 1px 2px rgba(0, 0, 0, 0.3));\n",
              "      fill: #FFFFFF;\n",
              "    }\n",
              "  </style>\n",
              "\n",
              "      <script>\n",
              "        const buttonEl =\n",
              "          document.querySelector('#df-bdf1fe7e-f319-44e9-9425-604a903ff749 button.colab-df-convert');\n",
              "        buttonEl.style.display =\n",
              "          google.colab.kernel.accessAllowed ? 'block' : 'none';\n",
              "\n",
              "        async function convertToInteractive(key) {\n",
              "          const element = document.querySelector('#df-bdf1fe7e-f319-44e9-9425-604a903ff749');\n",
              "          const dataTable =\n",
              "            await google.colab.kernel.invokeFunction('convertToInteractive',\n",
              "                                                     [key], {});\n",
              "          if (!dataTable) return;\n",
              "\n",
              "          const docLinkHtml = 'Like what you see? Visit the ' +\n",
              "            '<a target=\"_blank\" href=https://colab.research.google.com/notebooks/data_table.ipynb>data table notebook</a>'\n",
              "            + ' to learn more about interactive tables.';\n",
              "          element.innerHTML = '';\n",
              "          dataTable['output_type'] = 'display_data';\n",
              "          await google.colab.output.renderOutput(dataTable, element);\n",
              "          const docLink = document.createElement('div');\n",
              "          docLink.innerHTML = docLinkHtml;\n",
              "          element.appendChild(docLink);\n",
              "        }\n",
              "      </script>\n",
              "    </div>\n",
              "  </div>\n",
              "  "
            ],
            "text/plain": [
              "      tconst  ordering  ... attributes isOriginalTitle\n",
              "0  tt0000001         1  ...         \\N             0.0\n",
              "1  tt0000001         2  ...         \\N             0.0\n",
              "2  tt0000001         3  ...         \\N             0.0\n",
              "3  tt0000001         4  ...         \\N             1.0\n",
              "4  tt0000002         1  ...         \\N             1.0\n",
              "\n",
              "[5 rows x 8 columns]"
            ]
          },
          "execution_count": 15,
          "metadata": {},
          "output_type": "execute_result"
        }
      ],
      "source": [
        "df2.head()"
      ],
      "id": "14c8047d"
    },
    {
      "cell_type": "markdown",
      "metadata": {
        "id": "22759440"
      },
      "source": [
        "# Q.3"
      ],
      "id": "22759440"
    },
    {
      "cell_type": "code",
      "execution_count": null,
      "metadata": {
        "id": "9f2e410f"
      },
      "outputs": [],
      "source": [
        "#Inner Join\n",
        "merged_df = pd.merge(pd.merge(df1,df2,on='tconst'),df3,on='tconst')"
      ],
      "id": "9f2e410f"
    },
    {
      "cell_type": "code",
      "execution_count": null,
      "metadata": {
        "colab": {
          "base_uri": "https://localhost:8080/"
        },
        "id": "7d623723",
        "outputId": "329f6b95-3ebf-4639-f355-84ab863517fe"
      },
      "outputs": [
        {
          "data": {
            "text/plain": [
              "17564"
            ]
          },
          "execution_count": 18,
          "metadata": {},
          "output_type": "execute_result"
        }
      ],
      "source": [
        "len(merged_df)"
      ],
      "id": "7d623723"
    },
    {
      "cell_type": "code",
      "execution_count": null,
      "metadata": {
        "colab": {
          "base_uri": "https://localhost:8080/"
        },
        "id": "d76e0701",
        "outputId": "b8db8c4b-8a49-49f8-eb23-07f250229d4d"
      },
      "outputs": [
        {
          "data": {
            "text/plain": [
              "array(['short', 'movie'], dtype=object)"
            ]
          },
          "execution_count": 19,
          "metadata": {},
          "output_type": "execute_result"
        }
      ],
      "source": [
        "merged_df['titleType'].unique()"
      ],
      "id": "d76e0701"
    },
    {
      "cell_type": "code",
      "execution_count": null,
      "metadata": {
        "colab": {
          "base_uri": "https://localhost:8080/"
        },
        "id": "c8cee222",
        "outputId": "34858aff-e44b-4702-c06e-776562186f0b"
      },
      "outputs": [
        {
          "data": {
            "text/plain": [
              "2"
            ]
          },
          "execution_count": 20,
          "metadata": {},
          "output_type": "execute_result"
        }
      ],
      "source": [
        "merged_df['titleType'].nunique()"
      ],
      "id": "c8cee222"
    },
    {
      "cell_type": "markdown",
      "metadata": {
        "id": "a8dde7d1"
      },
      "source": [
        "# Q.4"
      ],
      "id": "a8dde7d1"
    },
    {
      "cell_type": "code",
      "execution_count": null,
      "metadata": {
        "id": "a024abb8"
      },
      "outputs": [],
      "source": [
        "df_new = merged_df[(merged_df['language'] == 'en') | (merged_df['region'] == 'US') & (merged_df['titleType']== 'movie') ]"
      ],
      "id": "a024abb8"
    },
    {
      "cell_type": "markdown",
      "metadata": {
        "id": "bbf099b4"
      },
      "source": [
        "# Q.5"
      ],
      "id": "bbf099b4"
    },
    {
      "cell_type": "code",
      "execution_count": null,
      "metadata": {
        "colab": {
          "base_uri": "https://localhost:8080/",
          "height": 494
        },
        "id": "e6f5fa4d",
        "outputId": "6faf75ce-4968-4906-d0fa-6e5a9f71fa4e"
      },
      "outputs": [
        {
          "data": {
            "text/html": [
              "\n",
              "  <div id=\"df-315e0cdd-e052-4683-a0e3-9d23e922cd8c\">\n",
              "    <div class=\"colab-df-container\">\n",
              "      <div>\n",
              "<style scoped>\n",
              "    .dataframe tbody tr th:only-of-type {\n",
              "        vertical-align: middle;\n",
              "    }\n",
              "\n",
              "    .dataframe tbody tr th {\n",
              "        vertical-align: top;\n",
              "    }\n",
              "\n",
              "    .dataframe thead th {\n",
              "        text-align: right;\n",
              "    }\n",
              "</style>\n",
              "<table border=\"1\" class=\"dataframe\">\n",
              "  <thead>\n",
              "    <tr style=\"text-align: right;\">\n",
              "      <th></th>\n",
              "      <th>tconst</th>\n",
              "      <th>averageRating</th>\n",
              "      <th>numVotes</th>\n",
              "      <th>ordering</th>\n",
              "      <th>title</th>\n",
              "      <th>region</th>\n",
              "      <th>language</th>\n",
              "      <th>types</th>\n",
              "      <th>attributes</th>\n",
              "      <th>isOriginalTitle</th>\n",
              "      <th>titleType</th>\n",
              "      <th>primaryTitle</th>\n",
              "      <th>originalTitle</th>\n",
              "      <th>isAdult</th>\n",
              "      <th>startYear</th>\n",
              "      <th>endYear</th>\n",
              "      <th>runtimeMinutes</th>\n",
              "      <th>genres</th>\n",
              "    </tr>\n",
              "  </thead>\n",
              "  <tbody>\n",
              "    <tr>\n",
              "      <th>51</th>\n",
              "      <td>tt0000009</td>\n",
              "      <td>5.5</td>\n",
              "      <td>70.0</td>\n",
              "      <td>3</td>\n",
              "      <td>Miss Jerry</td>\n",
              "      <td>US</td>\n",
              "      <td>\\N</td>\n",
              "      <td>\\N</td>\n",
              "      <td>\\N</td>\n",
              "      <td>0.0</td>\n",
              "      <td>movie</td>\n",
              "      <td>Miss Jerry</td>\n",
              "      <td>Miss Jerry</td>\n",
              "      <td>0.0</td>\n",
              "      <td>1894.0</td>\n",
              "      <td>\\N</td>\n",
              "      <td>45</td>\n",
              "      <td>Romance</td>\n",
              "    </tr>\n",
              "    <tr>\n",
              "      <th>74</th>\n",
              "      <td>tt0000012</td>\n",
              "      <td>7.4</td>\n",
              "      <td>8509.0</td>\n",
              "      <td>11</td>\n",
              "      <td>The Arrival of a Train</td>\n",
              "      <td>XWW</td>\n",
              "      <td>en</td>\n",
              "      <td>imdbDisplay</td>\n",
              "      <td>\\N</td>\n",
              "      <td>0.0</td>\n",
              "      <td>short</td>\n",
              "      <td>The Arrival of a Train</td>\n",
              "      <td>L'arrivée d'un train à La Ciotat</td>\n",
              "      <td>0.0</td>\n",
              "      <td>1896.0</td>\n",
              "      <td>\\N</td>\n",
              "      <td>1</td>\n",
              "      <td>Documentary,Short</td>\n",
              "    </tr>\n",
              "    <tr>\n",
              "      <th>76</th>\n",
              "      <td>tt0000012</td>\n",
              "      <td>7.4</td>\n",
              "      <td>8509.0</td>\n",
              "      <td>13</td>\n",
              "      <td>The Arrival of a Train at La Ciotat</td>\n",
              "      <td>XWW</td>\n",
              "      <td>en</td>\n",
              "      <td>alternative</td>\n",
              "      <td>\\N</td>\n",
              "      <td>0.0</td>\n",
              "      <td>short</td>\n",
              "      <td>The Arrival of a Train</td>\n",
              "      <td>L'arrivée d'un train à La Ciotat</td>\n",
              "      <td>0.0</td>\n",
              "      <td>1896.0</td>\n",
              "      <td>\\N</td>\n",
              "      <td>1</td>\n",
              "      <td>Documentary,Short</td>\n",
              "    </tr>\n",
              "    <tr>\n",
              "      <th>85</th>\n",
              "      <td>tt0000012</td>\n",
              "      <td>7.4</td>\n",
              "      <td>8509.0</td>\n",
              "      <td>21</td>\n",
              "      <td>The Arrival of a Train</td>\n",
              "      <td>XEU</td>\n",
              "      <td>en</td>\n",
              "      <td>imdbDisplay</td>\n",
              "      <td>\\N</td>\n",
              "      <td>0.0</td>\n",
              "      <td>short</td>\n",
              "      <td>The Arrival of a Train</td>\n",
              "      <td>L'arrivée d'un train à La Ciotat</td>\n",
              "      <td>0.0</td>\n",
              "      <td>1896.0</td>\n",
              "      <td>\\N</td>\n",
              "      <td>1</td>\n",
              "      <td>Documentary,Short</td>\n",
              "    </tr>\n",
              "    <tr>\n",
              "      <th>131</th>\n",
              "      <td>tt0000016</td>\n",
              "      <td>5.9</td>\n",
              "      <td>967.0</td>\n",
              "      <td>1</td>\n",
              "      <td>Boat Leaving the Port</td>\n",
              "      <td>XWW</td>\n",
              "      <td>en</td>\n",
              "      <td>\\N</td>\n",
              "      <td>informal title</td>\n",
              "      <td>0.0</td>\n",
              "      <td>short</td>\n",
              "      <td>Barque sortant du port</td>\n",
              "      <td>Barque sortant du port</td>\n",
              "      <td>0.0</td>\n",
              "      <td>1895.0</td>\n",
              "      <td>\\N</td>\n",
              "      <td>1</td>\n",
              "      <td>Documentary,Short</td>\n",
              "    </tr>\n",
              "  </tbody>\n",
              "</table>\n",
              "</div>\n",
              "      <button class=\"colab-df-convert\" onclick=\"convertToInteractive('df-315e0cdd-e052-4683-a0e3-9d23e922cd8c')\"\n",
              "              title=\"Convert this dataframe to an interactive table.\"\n",
              "              style=\"display:none;\">\n",
              "        \n",
              "  <svg xmlns=\"http://www.w3.org/2000/svg\" height=\"24px\"viewBox=\"0 0 24 24\"\n",
              "       width=\"24px\">\n",
              "    <path d=\"M0 0h24v24H0V0z\" fill=\"none\"/>\n",
              "    <path d=\"M18.56 5.44l.94 2.06.94-2.06 2.06-.94-2.06-.94-.94-2.06-.94 2.06-2.06.94zm-11 1L8.5 8.5l.94-2.06 2.06-.94-2.06-.94L8.5 2.5l-.94 2.06-2.06.94zm10 10l.94 2.06.94-2.06 2.06-.94-2.06-.94-.94-2.06-.94 2.06-2.06.94z\"/><path d=\"M17.41 7.96l-1.37-1.37c-.4-.4-.92-.59-1.43-.59-.52 0-1.04.2-1.43.59L10.3 9.45l-7.72 7.72c-.78.78-.78 2.05 0 2.83L4 21.41c.39.39.9.59 1.41.59.51 0 1.02-.2 1.41-.59l7.78-7.78 2.81-2.81c.8-.78.8-2.07 0-2.86zM5.41 20L4 18.59l7.72-7.72 1.47 1.35L5.41 20z\"/>\n",
              "  </svg>\n",
              "      </button>\n",
              "      \n",
              "  <style>\n",
              "    .colab-df-container {\n",
              "      display:flex;\n",
              "      flex-wrap:wrap;\n",
              "      gap: 12px;\n",
              "    }\n",
              "\n",
              "    .colab-df-convert {\n",
              "      background-color: #E8F0FE;\n",
              "      border: none;\n",
              "      border-radius: 50%;\n",
              "      cursor: pointer;\n",
              "      display: none;\n",
              "      fill: #1967D2;\n",
              "      height: 32px;\n",
              "      padding: 0 0 0 0;\n",
              "      width: 32px;\n",
              "    }\n",
              "\n",
              "    .colab-df-convert:hover {\n",
              "      background-color: #E2EBFA;\n",
              "      box-shadow: 0px 1px 2px rgba(60, 64, 67, 0.3), 0px 1px 3px 1px rgba(60, 64, 67, 0.15);\n",
              "      fill: #174EA6;\n",
              "    }\n",
              "\n",
              "    [theme=dark] .colab-df-convert {\n",
              "      background-color: #3B4455;\n",
              "      fill: #D2E3FC;\n",
              "    }\n",
              "\n",
              "    [theme=dark] .colab-df-convert:hover {\n",
              "      background-color: #434B5C;\n",
              "      box-shadow: 0px 1px 3px 1px rgba(0, 0, 0, 0.15);\n",
              "      filter: drop-shadow(0px 1px 2px rgba(0, 0, 0, 0.3));\n",
              "      fill: #FFFFFF;\n",
              "    }\n",
              "  </style>\n",
              "\n",
              "      <script>\n",
              "        const buttonEl =\n",
              "          document.querySelector('#df-315e0cdd-e052-4683-a0e3-9d23e922cd8c button.colab-df-convert');\n",
              "        buttonEl.style.display =\n",
              "          google.colab.kernel.accessAllowed ? 'block' : 'none';\n",
              "\n",
              "        async function convertToInteractive(key) {\n",
              "          const element = document.querySelector('#df-315e0cdd-e052-4683-a0e3-9d23e922cd8c');\n",
              "          const dataTable =\n",
              "            await google.colab.kernel.invokeFunction('convertToInteractive',\n",
              "                                                     [key], {});\n",
              "          if (!dataTable) return;\n",
              "\n",
              "          const docLinkHtml = 'Like what you see? Visit the ' +\n",
              "            '<a target=\"_blank\" href=https://colab.research.google.com/notebooks/data_table.ipynb>data table notebook</a>'\n",
              "            + ' to learn more about interactive tables.';\n",
              "          element.innerHTML = '';\n",
              "          dataTable['output_type'] = 'display_data';\n",
              "          await google.colab.output.renderOutput(dataTable, element);\n",
              "          const docLink = document.createElement('div');\n",
              "          docLink.innerHTML = docLinkHtml;\n",
              "          element.appendChild(docLink);\n",
              "        }\n",
              "      </script>\n",
              "    </div>\n",
              "  </div>\n",
              "  "
            ],
            "text/plain": [
              "        tconst  averageRating  ...  runtimeMinutes             genres\n",
              "51   tt0000009            5.5  ...              45            Romance\n",
              "74   tt0000012            7.4  ...               1  Documentary,Short\n",
              "76   tt0000012            7.4  ...               1  Documentary,Short\n",
              "85   tt0000012            7.4  ...               1  Documentary,Short\n",
              "131  tt0000016            5.9  ...               1  Documentary,Short\n",
              "\n",
              "[5 rows x 18 columns]"
            ]
          },
          "execution_count": 22,
          "metadata": {},
          "output_type": "execute_result"
        }
      ],
      "source": [
        "df_new.head()"
      ],
      "id": "e6f5fa4d"
    },
    {
      "cell_type": "code",
      "execution_count": null,
      "metadata": {
        "colab": {
          "base_uri": "https://localhost:8080/",
          "height": 896
        },
        "id": "LO-FREzFyk0e",
        "outputId": "aa720777-3ea6-41b1-8858-c2685b52b6b0"
      },
      "outputs": [
        {
          "data": {
            "text/html": [
              "\n",
              "  <div id=\"df-3f602583-96b8-4b59-a9f8-7a7cbc356cd1\">\n",
              "    <div class=\"colab-df-container\">\n",
              "      <div>\n",
              "<style scoped>\n",
              "    .dataframe tbody tr th:only-of-type {\n",
              "        vertical-align: middle;\n",
              "    }\n",
              "\n",
              "    .dataframe tbody tr th {\n",
              "        vertical-align: top;\n",
              "    }\n",
              "\n",
              "    .dataframe thead th {\n",
              "        text-align: right;\n",
              "    }\n",
              "</style>\n",
              "<table border=\"1\" class=\"dataframe\">\n",
              "  <thead>\n",
              "    <tr style=\"text-align: right;\">\n",
              "      <th></th>\n",
              "      <th>tconst</th>\n",
              "      <th>averageRating</th>\n",
              "      <th>numVotes</th>\n",
              "      <th>ordering</th>\n",
              "      <th>title</th>\n",
              "      <th>region</th>\n",
              "      <th>language</th>\n",
              "      <th>types</th>\n",
              "      <th>attributes</th>\n",
              "      <th>isOriginalTitle</th>\n",
              "      <th>titleType</th>\n",
              "      <th>primaryTitle</th>\n",
              "      <th>originalTitle</th>\n",
              "      <th>isAdult</th>\n",
              "      <th>startYear</th>\n",
              "      <th>endYear</th>\n",
              "      <th>runtimeMinutes</th>\n",
              "      <th>genres</th>\n",
              "      <th>log10Votes</th>\n",
              "    </tr>\n",
              "  </thead>\n",
              "  <tbody>\n",
              "    <tr>\n",
              "      <th>51</th>\n",
              "      <td>tt0000009</td>\n",
              "      <td>5.5</td>\n",
              "      <td>70.0</td>\n",
              "      <td>3</td>\n",
              "      <td>Miss Jerry</td>\n",
              "      <td>US</td>\n",
              "      <td>\\N</td>\n",
              "      <td>\\N</td>\n",
              "      <td>\\N</td>\n",
              "      <td>0.0</td>\n",
              "      <td>movie</td>\n",
              "      <td>Miss Jerry</td>\n",
              "      <td>Miss Jerry</td>\n",
              "      <td>0.0</td>\n",
              "      <td>1894.0</td>\n",
              "      <td>\\N</td>\n",
              "      <td>45</td>\n",
              "      <td>Romance</td>\n",
              "      <td>1.845098</td>\n",
              "    </tr>\n",
              "    <tr>\n",
              "      <th>74</th>\n",
              "      <td>tt0000012</td>\n",
              "      <td>7.4</td>\n",
              "      <td>8509.0</td>\n",
              "      <td>11</td>\n",
              "      <td>The Arrival of a Train</td>\n",
              "      <td>XWW</td>\n",
              "      <td>en</td>\n",
              "      <td>imdbDisplay</td>\n",
              "      <td>\\N</td>\n",
              "      <td>0.0</td>\n",
              "      <td>short</td>\n",
              "      <td>The Arrival of a Train</td>\n",
              "      <td>L'arrivée d'un train à La Ciotat</td>\n",
              "      <td>0.0</td>\n",
              "      <td>1896.0</td>\n",
              "      <td>\\N</td>\n",
              "      <td>1</td>\n",
              "      <td>Documentary,Short</td>\n",
              "      <td>3.929879</td>\n",
              "    </tr>\n",
              "    <tr>\n",
              "      <th>76</th>\n",
              "      <td>tt0000012</td>\n",
              "      <td>7.4</td>\n",
              "      <td>8509.0</td>\n",
              "      <td>13</td>\n",
              "      <td>The Arrival of a Train at La Ciotat</td>\n",
              "      <td>XWW</td>\n",
              "      <td>en</td>\n",
              "      <td>alternative</td>\n",
              "      <td>\\N</td>\n",
              "      <td>0.0</td>\n",
              "      <td>short</td>\n",
              "      <td>The Arrival of a Train</td>\n",
              "      <td>L'arrivée d'un train à La Ciotat</td>\n",
              "      <td>0.0</td>\n",
              "      <td>1896.0</td>\n",
              "      <td>\\N</td>\n",
              "      <td>1</td>\n",
              "      <td>Documentary,Short</td>\n",
              "      <td>3.929879</td>\n",
              "    </tr>\n",
              "    <tr>\n",
              "      <th>85</th>\n",
              "      <td>tt0000012</td>\n",
              "      <td>7.4</td>\n",
              "      <td>8509.0</td>\n",
              "      <td>21</td>\n",
              "      <td>The Arrival of a Train</td>\n",
              "      <td>XEU</td>\n",
              "      <td>en</td>\n",
              "      <td>imdbDisplay</td>\n",
              "      <td>\\N</td>\n",
              "      <td>0.0</td>\n",
              "      <td>short</td>\n",
              "      <td>The Arrival of a Train</td>\n",
              "      <td>L'arrivée d'un train à La Ciotat</td>\n",
              "      <td>0.0</td>\n",
              "      <td>1896.0</td>\n",
              "      <td>\\N</td>\n",
              "      <td>1</td>\n",
              "      <td>Documentary,Short</td>\n",
              "      <td>3.929879</td>\n",
              "    </tr>\n",
              "    <tr>\n",
              "      <th>131</th>\n",
              "      <td>tt0000016</td>\n",
              "      <td>5.9</td>\n",
              "      <td>967.0</td>\n",
              "      <td>1</td>\n",
              "      <td>Boat Leaving the Port</td>\n",
              "      <td>XWW</td>\n",
              "      <td>en</td>\n",
              "      <td>\\N</td>\n",
              "      <td>informal title</td>\n",
              "      <td>0.0</td>\n",
              "      <td>short</td>\n",
              "      <td>Barque sortant du port</td>\n",
              "      <td>Barque sortant du port</td>\n",
              "      <td>0.0</td>\n",
              "      <td>1895.0</td>\n",
              "      <td>\\N</td>\n",
              "      <td>1</td>\n",
              "      <td>Documentary,Short</td>\n",
              "      <td>2.985426</td>\n",
              "    </tr>\n",
              "    <tr>\n",
              "      <th>...</th>\n",
              "      <td>...</td>\n",
              "      <td>...</td>\n",
              "      <td>...</td>\n",
              "      <td>...</td>\n",
              "      <td>...</td>\n",
              "      <td>...</td>\n",
              "      <td>...</td>\n",
              "      <td>...</td>\n",
              "      <td>...</td>\n",
              "      <td>...</td>\n",
              "      <td>...</td>\n",
              "      <td>...</td>\n",
              "      <td>...</td>\n",
              "      <td>...</td>\n",
              "      <td>...</td>\n",
              "      <td>...</td>\n",
              "      <td>...</td>\n",
              "      <td>...</td>\n",
              "      <td>...</td>\n",
              "    </tr>\n",
              "    <tr>\n",
              "      <th>17546</th>\n",
              "      <td>tt0016130</td>\n",
              "      <td>7.8</td>\n",
              "      <td>5.0</td>\n",
              "      <td>2</td>\n",
              "      <td>No Fight Without Money</td>\n",
              "      <td>XWW</td>\n",
              "      <td>en</td>\n",
              "      <td>alternative</td>\n",
              "      <td>\\N</td>\n",
              "      <td>0.0</td>\n",
              "      <td>movie</td>\n",
              "      <td>Musen Fusen Uchien Puchan</td>\n",
              "      <td>Musen Fusen Uchien Puchan</td>\n",
              "      <td>0.0</td>\n",
              "      <td>1925.0</td>\n",
              "      <td>\\N</td>\n",
              "      <td>\\N</td>\n",
              "      <td>\\N</td>\n",
              "      <td>0.698970</td>\n",
              "    </tr>\n",
              "    <tr>\n",
              "      <th>17547</th>\n",
              "      <td>tt0016130</td>\n",
              "      <td>7.8</td>\n",
              "      <td>5.0</td>\n",
              "      <td>3</td>\n",
              "      <td>No Money, No War</td>\n",
              "      <td>XWW</td>\n",
              "      <td>en</td>\n",
              "      <td>alternative</td>\n",
              "      <td>\\N</td>\n",
              "      <td>0.0</td>\n",
              "      <td>movie</td>\n",
              "      <td>Musen Fusen Uchien Puchan</td>\n",
              "      <td>Musen Fusen Uchien Puchan</td>\n",
              "      <td>0.0</td>\n",
              "      <td>1925.0</td>\n",
              "      <td>\\N</td>\n",
              "      <td>\\N</td>\n",
              "      <td>\\N</td>\n",
              "      <td>0.698970</td>\n",
              "    </tr>\n",
              "    <tr>\n",
              "      <th>17550</th>\n",
              "      <td>tt0016130</td>\n",
              "      <td>7.8</td>\n",
              "      <td>5.0</td>\n",
              "      <td>6</td>\n",
              "      <td>No Money, No Fight</td>\n",
              "      <td>XWW</td>\n",
              "      <td>en</td>\n",
              "      <td>alternative</td>\n",
              "      <td>\\N</td>\n",
              "      <td>0.0</td>\n",
              "      <td>movie</td>\n",
              "      <td>Musen Fusen Uchien Puchan</td>\n",
              "      <td>Musen Fusen Uchien Puchan</td>\n",
              "      <td>0.0</td>\n",
              "      <td>1925.0</td>\n",
              "      <td>\\N</td>\n",
              "      <td>\\N</td>\n",
              "      <td>\\N</td>\n",
              "      <td>0.698970</td>\n",
              "    </tr>\n",
              "    <tr>\n",
              "      <th>17554</th>\n",
              "      <td>tt0016134</td>\n",
              "      <td>7.7</td>\n",
              "      <td>6.0</td>\n",
              "      <td>1</td>\n",
              "      <td>My Lady's Lips</td>\n",
              "      <td>US</td>\n",
              "      <td>\\N</td>\n",
              "      <td>\\N</td>\n",
              "      <td>\\N</td>\n",
              "      <td>0.0</td>\n",
              "      <td>movie</td>\n",
              "      <td>My Lady's Lips</td>\n",
              "      <td>My Lady's Lips</td>\n",
              "      <td>0.0</td>\n",
              "      <td>1925.0</td>\n",
              "      <td>\\N</td>\n",
              "      <td>70</td>\n",
              "      <td>Crime,Drama</td>\n",
              "      <td>0.778151</td>\n",
              "    </tr>\n",
              "    <tr>\n",
              "      <th>17561</th>\n",
              "      <td>tt0016142</td>\n",
              "      <td>6.8</td>\n",
              "      <td>85.0</td>\n",
              "      <td>5</td>\n",
              "      <td>The Mystic</td>\n",
              "      <td>US</td>\n",
              "      <td>\\N</td>\n",
              "      <td>\\N</td>\n",
              "      <td>\\N</td>\n",
              "      <td>0.0</td>\n",
              "      <td>movie</td>\n",
              "      <td>The Mystic</td>\n",
              "      <td>The Mystic</td>\n",
              "      <td>0.0</td>\n",
              "      <td>1925.0</td>\n",
              "      <td>\\N</td>\n",
              "      <td>70</td>\n",
              "      <td>Drama</td>\n",
              "      <td>1.929419</td>\n",
              "    </tr>\n",
              "  </tbody>\n",
              "</table>\n",
              "<p>2057 rows × 19 columns</p>\n",
              "</div>\n",
              "      <button class=\"colab-df-convert\" onclick=\"convertToInteractive('df-3f602583-96b8-4b59-a9f8-7a7cbc356cd1')\"\n",
              "              title=\"Convert this dataframe to an interactive table.\"\n",
              "              style=\"display:none;\">\n",
              "        \n",
              "  <svg xmlns=\"http://www.w3.org/2000/svg\" height=\"24px\"viewBox=\"0 0 24 24\"\n",
              "       width=\"24px\">\n",
              "    <path d=\"M0 0h24v24H0V0z\" fill=\"none\"/>\n",
              "    <path d=\"M18.56 5.44l.94 2.06.94-2.06 2.06-.94-2.06-.94-.94-2.06-.94 2.06-2.06.94zm-11 1L8.5 8.5l.94-2.06 2.06-.94-2.06-.94L8.5 2.5l-.94 2.06-2.06.94zm10 10l.94 2.06.94-2.06 2.06-.94-2.06-.94-.94-2.06-.94 2.06-2.06.94z\"/><path d=\"M17.41 7.96l-1.37-1.37c-.4-.4-.92-.59-1.43-.59-.52 0-1.04.2-1.43.59L10.3 9.45l-7.72 7.72c-.78.78-.78 2.05 0 2.83L4 21.41c.39.39.9.59 1.41.59.51 0 1.02-.2 1.41-.59l7.78-7.78 2.81-2.81c.8-.78.8-2.07 0-2.86zM5.41 20L4 18.59l7.72-7.72 1.47 1.35L5.41 20z\"/>\n",
              "  </svg>\n",
              "      </button>\n",
              "      \n",
              "  <style>\n",
              "    .colab-df-container {\n",
              "      display:flex;\n",
              "      flex-wrap:wrap;\n",
              "      gap: 12px;\n",
              "    }\n",
              "\n",
              "    .colab-df-convert {\n",
              "      background-color: #E8F0FE;\n",
              "      border: none;\n",
              "      border-radius: 50%;\n",
              "      cursor: pointer;\n",
              "      display: none;\n",
              "      fill: #1967D2;\n",
              "      height: 32px;\n",
              "      padding: 0 0 0 0;\n",
              "      width: 32px;\n",
              "    }\n",
              "\n",
              "    .colab-df-convert:hover {\n",
              "      background-color: #E2EBFA;\n",
              "      box-shadow: 0px 1px 2px rgba(60, 64, 67, 0.3), 0px 1px 3px 1px rgba(60, 64, 67, 0.15);\n",
              "      fill: #174EA6;\n",
              "    }\n",
              "\n",
              "    [theme=dark] .colab-df-convert {\n",
              "      background-color: #3B4455;\n",
              "      fill: #D2E3FC;\n",
              "    }\n",
              "\n",
              "    [theme=dark] .colab-df-convert:hover {\n",
              "      background-color: #434B5C;\n",
              "      box-shadow: 0px 1px 3px 1px rgba(0, 0, 0, 0.15);\n",
              "      filter: drop-shadow(0px 1px 2px rgba(0, 0, 0, 0.3));\n",
              "      fill: #FFFFFF;\n",
              "    }\n",
              "  </style>\n",
              "\n",
              "      <script>\n",
              "        const buttonEl =\n",
              "          document.querySelector('#df-3f602583-96b8-4b59-a9f8-7a7cbc356cd1 button.colab-df-convert');\n",
              "        buttonEl.style.display =\n",
              "          google.colab.kernel.accessAllowed ? 'block' : 'none';\n",
              "\n",
              "        async function convertToInteractive(key) {\n",
              "          const element = document.querySelector('#df-3f602583-96b8-4b59-a9f8-7a7cbc356cd1');\n",
              "          const dataTable =\n",
              "            await google.colab.kernel.invokeFunction('convertToInteractive',\n",
              "                                                     [key], {});\n",
              "          if (!dataTable) return;\n",
              "\n",
              "          const docLinkHtml = 'Like what you see? Visit the ' +\n",
              "            '<a target=\"_blank\" href=https://colab.research.google.com/notebooks/data_table.ipynb>data table notebook</a>'\n",
              "            + ' to learn more about interactive tables.';\n",
              "          element.innerHTML = '';\n",
              "          dataTable['output_type'] = 'display_data';\n",
              "          await google.colab.output.renderOutput(dataTable, element);\n",
              "          const docLink = document.createElement('div');\n",
              "          docLink.innerHTML = docLinkHtml;\n",
              "          element.appendChild(docLink);\n",
              "        }\n",
              "      </script>\n",
              "    </div>\n",
              "  </div>\n",
              "  "
            ],
            "text/plain": [
              "          tconst  averageRating  ...             genres  log10Votes\n",
              "51     tt0000009            5.5  ...            Romance    1.845098\n",
              "74     tt0000012            7.4  ...  Documentary,Short    3.929879\n",
              "76     tt0000012            7.4  ...  Documentary,Short    3.929879\n",
              "85     tt0000012            7.4  ...  Documentary,Short    3.929879\n",
              "131    tt0000016            5.9  ...  Documentary,Short    2.985426\n",
              "...          ...            ...  ...                ...         ...\n",
              "17546  tt0016130            7.8  ...                 \\N    0.698970\n",
              "17547  tt0016130            7.8  ...                 \\N    0.698970\n",
              "17550  tt0016130            7.8  ...                 \\N    0.698970\n",
              "17554  tt0016134            7.7  ...        Crime,Drama    0.778151\n",
              "17561  tt0016142            6.8  ...              Drama    1.929419\n",
              "\n",
              "[2057 rows x 19 columns]"
            ]
          },
          "execution_count": 25,
          "metadata": {},
          "output_type": "execute_result"
        }
      ],
      "source": [
        "df_new.loc[df_new['log10Votes'] == np.log10(df_new['numVotes'])]"
      ],
      "id": "LO-FREzFyk0e"
    },
    {
      "cell_type": "markdown",
      "metadata": {
        "id": "d57eca9a"
      },
      "source": [
        "# Q.6"
      ],
      "id": "d57eca9a"
    },
    {
      "cell_type": "code",
      "execution_count": null,
      "metadata": {
        "colab": {
          "base_uri": "https://localhost:8080/"
        },
        "id": "59d59782",
        "outputId": "3f98225a-7adc-4843-cdc3-be7bafa25147"
      },
      "outputs": [
        {
          "name": "stderr",
          "output_type": "stream",
          "text": [
            "/usr/local/lib/python3.7/dist-packages/ipykernel_launcher.py:1: SettingWithCopyWarning: \n",
            "A value is trying to be set on a copy of a slice from a DataFrame.\n",
            "Try using .loc[row_indexer,col_indexer] = value instead\n",
            "\n",
            "See the caveats in the documentation: https://pandas.pydata.org/pandas-docs/stable/user_guide/indexing.html#returning-a-view-versus-a-copy\n",
            "  \"\"\"Entry point for launching an IPython kernel.\n"
          ]
        }
      ],
      "source": [
        "df_new['genres']=df_new['genres'].str.lower()"
      ],
      "id": "59d59782"
    },
    {
      "cell_type": "code",
      "execution_count": null,
      "metadata": {
        "colab": {
          "base_uri": "https://localhost:8080/",
          "height": 494
        },
        "id": "144eb374",
        "outputId": "e90575f9-e9aa-4142-eedb-8c306c5a516f",
        "scrolled": true
      },
      "outputs": [
        {
          "data": {
            "text/html": [
              "\n",
              "  <div id=\"df-4ea4c028-d82f-4838-a5da-9bfc38a87747\">\n",
              "    <div class=\"colab-df-container\">\n",
              "      <div>\n",
              "<style scoped>\n",
              "    .dataframe tbody tr th:only-of-type {\n",
              "        vertical-align: middle;\n",
              "    }\n",
              "\n",
              "    .dataframe tbody tr th {\n",
              "        vertical-align: top;\n",
              "    }\n",
              "\n",
              "    .dataframe thead th {\n",
              "        text-align: right;\n",
              "    }\n",
              "</style>\n",
              "<table border=\"1\" class=\"dataframe\">\n",
              "  <thead>\n",
              "    <tr style=\"text-align: right;\">\n",
              "      <th></th>\n",
              "      <th>tconst</th>\n",
              "      <th>averageRating</th>\n",
              "      <th>numVotes</th>\n",
              "      <th>ordering</th>\n",
              "      <th>title</th>\n",
              "      <th>region</th>\n",
              "      <th>language</th>\n",
              "      <th>types</th>\n",
              "      <th>attributes</th>\n",
              "      <th>isOriginalTitle</th>\n",
              "      <th>titleType</th>\n",
              "      <th>primaryTitle</th>\n",
              "      <th>originalTitle</th>\n",
              "      <th>isAdult</th>\n",
              "      <th>startYear</th>\n",
              "      <th>endYear</th>\n",
              "      <th>runtimeMinutes</th>\n",
              "      <th>genres</th>\n",
              "      <th>log10Votes</th>\n",
              "    </tr>\n",
              "  </thead>\n",
              "  <tbody>\n",
              "    <tr>\n",
              "      <th>51</th>\n",
              "      <td>tt0000009</td>\n",
              "      <td>5.5</td>\n",
              "      <td>70.0</td>\n",
              "      <td>3</td>\n",
              "      <td>Miss Jerry</td>\n",
              "      <td>US</td>\n",
              "      <td>\\N</td>\n",
              "      <td>\\N</td>\n",
              "      <td>\\N</td>\n",
              "      <td>0.0</td>\n",
              "      <td>movie</td>\n",
              "      <td>Miss Jerry</td>\n",
              "      <td>Miss Jerry</td>\n",
              "      <td>0.0</td>\n",
              "      <td>1894.0</td>\n",
              "      <td>\\N</td>\n",
              "      <td>45</td>\n",
              "      <td>romance</td>\n",
              "      <td>1.845098</td>\n",
              "    </tr>\n",
              "    <tr>\n",
              "      <th>74</th>\n",
              "      <td>tt0000012</td>\n",
              "      <td>7.4</td>\n",
              "      <td>8509.0</td>\n",
              "      <td>11</td>\n",
              "      <td>The Arrival of a Train</td>\n",
              "      <td>XWW</td>\n",
              "      <td>en</td>\n",
              "      <td>imdbDisplay</td>\n",
              "      <td>\\N</td>\n",
              "      <td>0.0</td>\n",
              "      <td>short</td>\n",
              "      <td>The Arrival of a Train</td>\n",
              "      <td>L'arrivée d'un train à La Ciotat</td>\n",
              "      <td>0.0</td>\n",
              "      <td>1896.0</td>\n",
              "      <td>\\N</td>\n",
              "      <td>1</td>\n",
              "      <td>documentary,short</td>\n",
              "      <td>3.929879</td>\n",
              "    </tr>\n",
              "    <tr>\n",
              "      <th>76</th>\n",
              "      <td>tt0000012</td>\n",
              "      <td>7.4</td>\n",
              "      <td>8509.0</td>\n",
              "      <td>13</td>\n",
              "      <td>The Arrival of a Train at La Ciotat</td>\n",
              "      <td>XWW</td>\n",
              "      <td>en</td>\n",
              "      <td>alternative</td>\n",
              "      <td>\\N</td>\n",
              "      <td>0.0</td>\n",
              "      <td>short</td>\n",
              "      <td>The Arrival of a Train</td>\n",
              "      <td>L'arrivée d'un train à La Ciotat</td>\n",
              "      <td>0.0</td>\n",
              "      <td>1896.0</td>\n",
              "      <td>\\N</td>\n",
              "      <td>1</td>\n",
              "      <td>documentary,short</td>\n",
              "      <td>3.929879</td>\n",
              "    </tr>\n",
              "    <tr>\n",
              "      <th>85</th>\n",
              "      <td>tt0000012</td>\n",
              "      <td>7.4</td>\n",
              "      <td>8509.0</td>\n",
              "      <td>21</td>\n",
              "      <td>The Arrival of a Train</td>\n",
              "      <td>XEU</td>\n",
              "      <td>en</td>\n",
              "      <td>imdbDisplay</td>\n",
              "      <td>\\N</td>\n",
              "      <td>0.0</td>\n",
              "      <td>short</td>\n",
              "      <td>The Arrival of a Train</td>\n",
              "      <td>L'arrivée d'un train à La Ciotat</td>\n",
              "      <td>0.0</td>\n",
              "      <td>1896.0</td>\n",
              "      <td>\\N</td>\n",
              "      <td>1</td>\n",
              "      <td>documentary,short</td>\n",
              "      <td>3.929879</td>\n",
              "    </tr>\n",
              "    <tr>\n",
              "      <th>131</th>\n",
              "      <td>tt0000016</td>\n",
              "      <td>5.9</td>\n",
              "      <td>967.0</td>\n",
              "      <td>1</td>\n",
              "      <td>Boat Leaving the Port</td>\n",
              "      <td>XWW</td>\n",
              "      <td>en</td>\n",
              "      <td>\\N</td>\n",
              "      <td>informal title</td>\n",
              "      <td>0.0</td>\n",
              "      <td>short</td>\n",
              "      <td>Barque sortant du port</td>\n",
              "      <td>Barque sortant du port</td>\n",
              "      <td>0.0</td>\n",
              "      <td>1895.0</td>\n",
              "      <td>\\N</td>\n",
              "      <td>1</td>\n",
              "      <td>documentary,short</td>\n",
              "      <td>2.985426</td>\n",
              "    </tr>\n",
              "  </tbody>\n",
              "</table>\n",
              "</div>\n",
              "      <button class=\"colab-df-convert\" onclick=\"convertToInteractive('df-4ea4c028-d82f-4838-a5da-9bfc38a87747')\"\n",
              "              title=\"Convert this dataframe to an interactive table.\"\n",
              "              style=\"display:none;\">\n",
              "        \n",
              "  <svg xmlns=\"http://www.w3.org/2000/svg\" height=\"24px\"viewBox=\"0 0 24 24\"\n",
              "       width=\"24px\">\n",
              "    <path d=\"M0 0h24v24H0V0z\" fill=\"none\"/>\n",
              "    <path d=\"M18.56 5.44l.94 2.06.94-2.06 2.06-.94-2.06-.94-.94-2.06-.94 2.06-2.06.94zm-11 1L8.5 8.5l.94-2.06 2.06-.94-2.06-.94L8.5 2.5l-.94 2.06-2.06.94zm10 10l.94 2.06.94-2.06 2.06-.94-2.06-.94-.94-2.06-.94 2.06-2.06.94z\"/><path d=\"M17.41 7.96l-1.37-1.37c-.4-.4-.92-.59-1.43-.59-.52 0-1.04.2-1.43.59L10.3 9.45l-7.72 7.72c-.78.78-.78 2.05 0 2.83L4 21.41c.39.39.9.59 1.41.59.51 0 1.02-.2 1.41-.59l7.78-7.78 2.81-2.81c.8-.78.8-2.07 0-2.86zM5.41 20L4 18.59l7.72-7.72 1.47 1.35L5.41 20z\"/>\n",
              "  </svg>\n",
              "      </button>\n",
              "      \n",
              "  <style>\n",
              "    .colab-df-container {\n",
              "      display:flex;\n",
              "      flex-wrap:wrap;\n",
              "      gap: 12px;\n",
              "    }\n",
              "\n",
              "    .colab-df-convert {\n",
              "      background-color: #E8F0FE;\n",
              "      border: none;\n",
              "      border-radius: 50%;\n",
              "      cursor: pointer;\n",
              "      display: none;\n",
              "      fill: #1967D2;\n",
              "      height: 32px;\n",
              "      padding: 0 0 0 0;\n",
              "      width: 32px;\n",
              "    }\n",
              "\n",
              "    .colab-df-convert:hover {\n",
              "      background-color: #E2EBFA;\n",
              "      box-shadow: 0px 1px 2px rgba(60, 64, 67, 0.3), 0px 1px 3px 1px rgba(60, 64, 67, 0.15);\n",
              "      fill: #174EA6;\n",
              "    }\n",
              "\n",
              "    [theme=dark] .colab-df-convert {\n",
              "      background-color: #3B4455;\n",
              "      fill: #D2E3FC;\n",
              "    }\n",
              "\n",
              "    [theme=dark] .colab-df-convert:hover {\n",
              "      background-color: #434B5C;\n",
              "      box-shadow: 0px 1px 3px 1px rgba(0, 0, 0, 0.15);\n",
              "      filter: drop-shadow(0px 1px 2px rgba(0, 0, 0, 0.3));\n",
              "      fill: #FFFFFF;\n",
              "    }\n",
              "  </style>\n",
              "\n",
              "      <script>\n",
              "        const buttonEl =\n",
              "          document.querySelector('#df-4ea4c028-d82f-4838-a5da-9bfc38a87747 button.colab-df-convert');\n",
              "        buttonEl.style.display =\n",
              "          google.colab.kernel.accessAllowed ? 'block' : 'none';\n",
              "\n",
              "        async function convertToInteractive(key) {\n",
              "          const element = document.querySelector('#df-4ea4c028-d82f-4838-a5da-9bfc38a87747');\n",
              "          const dataTable =\n",
              "            await google.colab.kernel.invokeFunction('convertToInteractive',\n",
              "                                                     [key], {});\n",
              "          if (!dataTable) return;\n",
              "\n",
              "          const docLinkHtml = 'Like what you see? Visit the ' +\n",
              "            '<a target=\"_blank\" href=https://colab.research.google.com/notebooks/data_table.ipynb>data table notebook</a>'\n",
              "            + ' to learn more about interactive tables.';\n",
              "          element.innerHTML = '';\n",
              "          dataTable['output_type'] = 'display_data';\n",
              "          await google.colab.output.renderOutput(dataTable, element);\n",
              "          const docLink = document.createElement('div');\n",
              "          docLink.innerHTML = docLinkHtml;\n",
              "          element.appendChild(docLink);\n",
              "        }\n",
              "      </script>\n",
              "    </div>\n",
              "  </div>\n",
              "  "
            ],
            "text/plain": [
              "        tconst  averageRating  ...             genres  log10Votes\n",
              "51   tt0000009            5.5  ...            romance    1.845098\n",
              "74   tt0000012            7.4  ...  documentary,short    3.929879\n",
              "76   tt0000012            7.4  ...  documentary,short    3.929879\n",
              "85   tt0000012            7.4  ...  documentary,short    3.929879\n",
              "131  tt0000016            5.9  ...  documentary,short    2.985426\n",
              "\n",
              "[5 rows x 19 columns]"
            ]
          },
          "execution_count": 27,
          "metadata": {},
          "output_type": "execute_result"
        }
      ],
      "source": [
        "df_new.head()"
      ],
      "id": "144eb374"
    },
    {
      "cell_type": "code",
      "execution_count": null,
      "metadata": {
        "colab": {
          "base_uri": "https://localhost:8080/"
        },
        "id": "eXICXA2fhJhf",
        "outputId": "624ac126-578f-41a1-a648-1f13ae9ec531"
      },
      "outputs": [
        {
          "data": {
            "text/plain": [
              "genres\n",
              "documentary,fantasy,horror     3.982135\n",
              "fantasy,horror,mystery         3.976099\n",
              "comedy,romance,thriller        3.942504\n",
              "fantasy,horror                 3.909337\n",
              "drama,thriller,western         3.904932\n",
              "comedy,drama,family            3.859733\n",
              "crime,mystery,thriller         3.794349\n",
              "comedy,war                     3.690728\n",
              "adventure,fantasy,sci-fi       3.671516\n",
              "adventure,animation,fantasy    3.648262\n",
              "Name: log10Votes, dtype: float64"
            ]
          },
          "execution_count": 28,
          "metadata": {},
          "output_type": "execute_result"
        }
      ],
      "source": [
        "df_new.groupby('genres')['log10Votes'].mean().nlargest(10)"
      ],
      "id": "eXICXA2fhJhf"
    },
    {
      "cell_type": "code",
      "execution_count": null,
      "metadata": {
        "colab": {
          "base_uri": "https://localhost:8080/"
        },
        "id": "A3udT-7ahZwx",
        "outputId": "9208588a-3d3a-42dd-c369-665fe97eb69b"
      },
      "outputs": [
        {
          "data": {
            "text/plain": [
              "genres\n",
              "action,comedy,sport            8.3\n",
              "adventure,fantasy,romance      7.9\n",
              "comedy,romance,thriller        7.9\n",
              "crime,mystery,thriller         7.9\n",
              "drama,romance,thriller         7.9\n",
              "drama,thriller,western         7.9\n",
              "adventure,animation,fantasy    7.8\n",
              "animation,comedy,short         7.8\n",
              "documentary,fantasy,horror     7.7\n",
              "drama,fantasy,thriller         7.7\n",
              "Name: averageRating, dtype: float64"
            ]
          },
          "execution_count": 29,
          "metadata": {},
          "output_type": "execute_result"
        }
      ],
      "source": [
        "df_new.groupby('genres')['averageRating'].mean().nlargest(10)"
      ],
      "id": "A3udT-7ahZwx"
    },
    {
      "cell_type": "markdown",
      "metadata": {
        "id": "moIYmlATvMtI"
      },
      "source": [
        "## Q.7"
      ],
      "id": "moIYmlATvMtI"
    },
    {
      "cell_type": "code",
      "execution_count": null,
      "metadata": {
        "id": "_0Hy-7I4vSMO"
      },
      "outputs": [],
      "source": [
        "df_new.groupby('averageRating')\n",
        "df_new.plot.scatter(x='averageRating', y='log10Votes')"
      ],
      "id": "_0Hy-7I4vSMO"
    },
    {
      "cell_type": "markdown",
      "metadata": {
        "id": "IjgdvTpn0fVK"
      },
      "source": [
        "## Q.8"
      ],
      "id": "IjgdvTpn0fVK"
    },
    {
      "cell_type": "code",
      "execution_count": null,
      "metadata": {
        "colab": {
          "background_save": true
        },
        "id": "PIjSAfIm0eM7"
      },
      "outputs": [],
      "source": [
        "import seaborn as sns\n",
        "import matplotlib.pyplot as plt\n",
        "%matplotlib inline"
      ],
      "id": "PIjSAfIm0eM7"
    },
    {
      "cell_type": "code",
      "execution_count": null,
      "metadata": {
        "colab": {
          "background_save": true
        },
        "id": "b7Xp-lTy0eKL"
      },
      "outputs": [],
      "source": [
        "X = df_new.iloc[:, 1].values.reshape(-1, 1)\n",
        "y = df_new.iloc[:, -1].values.reshape(-1, 1)"
      ],
      "id": "b7Xp-lTy0eKL"
    },
    {
      "cell_type": "code",
      "execution_count": null,
      "metadata": {
        "id": "waL-BFmL0eGu"
      },
      "outputs": [],
      "source": [
        "print(X)"
      ],
      "id": "waL-BFmL0eGu"
    },
    {
      "cell_type": "code",
      "execution_count": null,
      "metadata": {
        "id": "pEuuAAEq0eA4"
      },
      "outputs": [],
      "source": [
        "print(y)"
      ],
      "id": "pEuuAAEq0eA4"
    },
    {
      "cell_type": "code",
      "execution_count": null,
      "metadata": {
        "colab": {
          "background_save": true
        },
        "id": "f4DUpZkfrWuU"
      },
      "outputs": [],
      "source": [
        "from sklearn.model_selection import train_test_split\n",
        "X_train, X_test, y_train, y_test = train_test_split(X, y, test_size = 0.2, random_state = 0)"
      ],
      "id": "f4DUpZkfrWuU"
    },
    {
      "cell_type": "code",
      "execution_count": null,
      "metadata": {
        "colab": {
          "background_save": true
        },
        "id": "Clp9WvxZ1Co6",
        "outputId": "c9670b62-9131-4f56-efbd-169924ebc19f"
      },
      "outputs": [
        {
          "data": {
            "text/plain": [
              "LinearRegression()"
            ]
          },
          "execution_count": null,
          "metadata": {},
          "output_type": "execute_result"
        }
      ],
      "source": [
        "from sklearn.linear_model import LinearRegression\n",
        "regressor = LinearRegression()\n",
        "regressor.fit(X_train, y_train)"
      ],
      "id": "Clp9WvxZ1Co6"
    },
    {
      "cell_type": "code",
      "execution_count": null,
      "metadata": {
        "colab": {
          "background_save": true
        },
        "id": "1h7R3EJr1CR8"
      },
      "outputs": [],
      "source": [
        "y_pred = regressor.predict(X_test)"
      ],
      "id": "1h7R3EJr1CR8"
    },
    {
      "cell_type": "code",
      "execution_count": null,
      "metadata": {
        "id": "IFceH9do2D2W"
      },
      "outputs": [],
      "source": [
        "plt.scatter(X_train, y_train, color = 'red')\n",
        "plt.plot(X_train, regressor.predict(X_train), color='blue')\n",
        "plt.title('averageRating vs log10Votes (Training Set)')\n",
        "plt.xlabel('averageRating')\n",
        "plt.ylabel('log10Votes')\n",
        "plt.show()"
      ],
      "id": "IFceH9do2D2W"
    },
    {
      "cell_type": "code",
      "execution_count": null,
      "metadata": {
        "colab": {
          "background_save": true
        },
        "id": "BGXFumpSsOci",
        "outputId": "404f9c4e-355d-4168-e464-f7130fb88975"
      },
      "outputs": [
        {
          "data": {
            "image/png": "[encoded data removed]",
            "text/plain": [
              "<Figure size 432x288 with 1 Axes>"
            ]
          },
          "metadata": {},
          "output_type": "display_data"
        }
      ],
      "source": [
        "plt.scatter(X_test, y_test, color = 'red')\n",
        "plt.plot(X_train, regressor.predict(X_train), color='blue')\n",
        "plt.title('averageRating vs log10Votes (Test Set)')\n",
        "plt.xlabel('averageRating')\n",
        "plt.ylabel('log10Votes')\n",
        "plt.show()"
      ],
      "id": "BGXFumpSsOci"
    },
    {
      "cell_type": "code",
      "execution_count": null,
      "metadata": {
        "colab": {
          "background_save": true
        },
        "id": "tasvp61t2DxR",
        "outputId": "9ad8774f-e646-4945-f71b-3318c5ae3d87"
      },
      "outputs": [
        {
          "name": "stdout",
          "output_type": "stream",
          "text": [
            "[0.00222876]\n",
            "[[0.25195654]]\n"
          ]
        }
      ],
      "source": [
        "print(regressor.intercept_)\n",
        "print(regressor.coef_)"
      ],
      "id": "tasvp61t2DxR"
    },
    {
      "cell_type": "markdown",
      "metadata": {
        "id": "0Pmu2gjsmp-A"
      },
      "source": [
        "Linear Regression Using Scipy"
      ],
      "id": "0Pmu2gjsmp-A"
    },
    {
      "cell_type": "code",
      "execution_count": null,
      "metadata": {
        "id": "gQwG7JG-2DmW"
      },
      "outputs": [],
      "source": [
        "from scipy import stats\n",
        "from scipy.stats import linregress\n"
      ],
      "id": "gQwG7JG-2DmW"
    },
    {
      "cell_type": "code",
      "execution_count": null,
      "metadata": {
        "id": "J0dO3OW1_Rno"
      },
      "outputs": [],
      "source": [
        "x = df_new.iloc[:, 1].values.reshape(-1, 1)\n",
        "y = df_new.iloc[:, -1].values.reshape(-1, 1)"
      ],
      "id": "J0dO3OW1_Rno"
    },
    {
      "cell_type": "code",
      "execution_count": null,
      "metadata": {
        "id": "CxkT50jg_Rkx"
      },
      "outputs": [],
      "source": [
        "slope, intercept, r_value, p_value, stderr = linregress(x, y)"
      ],
      "id": "CxkT50jg_Rkx"
    },
    {
      "cell_type": "code",
      "source": [
        "plt.scatter(x,y, color=\"red\", marker=\"o\", label=\"averageRating vs log10Votes\")\n",
        " \n",
        " \n",
        "y_pred = intercept + slope*x\n",
        "plt.plot(x,y_pred, color=\"green\", label=\"Fitted line\")\n",
        " \n",
        "plt.legend(loc='best')\n",
        "plt.xlabel('averageRating') \n",
        "plt.ylabel('log10Votes') \n",
        " "
      ],
      "metadata": {
        "id": "1FVBeetQZtNE"
      },
      "id": "1FVBeetQZtNE",
      "execution_count": null,
      "outputs": []
    },
    {
      "cell_type": "code",
      "source": [
        ""
      ],
      "metadata": {
        "id": "xdts2fdQZtI7"
      },
      "id": "xdts2fdQZtI7",
      "execution_count": null,
      "outputs": []
    },
    {
      "cell_type": "markdown",
      "metadata": {
        "id": "6jrR4NU8_TT0"
      },
      "source": [
        "Linear Regression using Pytorch"
      ],
      "id": "6jrR4NU8_TT0"
    },
    {
      "cell_type": "code",
      "execution_count": null,
      "metadata": {
        "id": "bxy3mecUlfYv"
      },
      "outputs": [],
      "source": [
        "import torch\n",
        "import torch.nn as nn\n",
        "from torch.autograd import Variable"
      ],
      "id": "bxy3mecUlfYv"
    },
    {
      "cell_type": "code",
      "execution_count": null,
      "metadata": {
        "id": "LX2_jg2O_cUY"
      },
      "outputs": [],
      "source": [
        "x_values = df_new.iloc[:, 1].values\n",
        "x_train = np.array(x_values, dtype=np.float32)\n",
        "x_train = x_train.reshape(-1, 1)"
      ],
      "id": "LX2_jg2O_cUY"
    },
    {
      "cell_type": "code",
      "execution_count": null,
      "metadata": {
        "id": "Qjf38Wq3A1jk"
      },
      "outputs": [],
      "source": [
        "y_values = df_new.iloc[:, -1].values\n",
        "y_train = np.array(y_values, dtype=np.float32)\n",
        "y_train = y_train.reshape(-1, 1)"
      ],
      "id": "Qjf38Wq3A1jk"
    },
    {
      "cell_type": "code",
      "execution_count": null,
      "metadata": {
        "id": "3mfW7YdqDSuE"
      },
      "outputs": [],
      "source": [
        "class linearRegression(torch.nn.Module):\n",
        "    def __init__(self, inputSize, outputSize):\n",
        "        super(linearRegression, self).__init__()\n",
        "        self.linear = torch.nn.Linear(inputSize, outputSize)\n",
        "\n",
        "    def forward(self, x):\n",
        "        out = self.linear(x)\n",
        "        return out"
      ],
      "id": "3mfW7YdqDSuE"
    },
    {
      "cell_type": "code",
      "execution_count": null,
      "metadata": {
        "id": "BA1JgEoCDVtD"
      },
      "outputs": [],
      "source": [
        "inputDim = 1        \n",
        "outputDim = 1       \n",
        "learningRate = 0.01 \n",
        "epochs = 100\n",
        "\n",
        "model = linearRegression(inputDim, outputDim)\n",
        "if torch.cuda.is_available():\n",
        "    model.cuda()"
      ],
      "id": "BA1JgEoCDVtD"
    },
    {
      "cell_type": "code",
      "execution_count": null,
      "metadata": {
        "id": "ncz9KcyzEZnl"
      },
      "outputs": [],
      "source": [
        "criterion = torch.nn.MSELoss() \n",
        "optimizer = torch.optim.SGD(model.parameters(), lr=learningRate)"
      ],
      "id": "ncz9KcyzEZnl"
    },
    {
      "cell_type": "code",
      "execution_count": null,
      "metadata": {
        "colab": {
          "base_uri": "https://localhost:8080/"
        },
        "id": "D0lv04ImEfLz",
        "outputId": "a102f161-bc5f-47c3-f181-3e6cee09ab77"
      },
      "outputs": [
        {
          "name": "stdout",
          "output_type": "stream",
          "text": [
            "tensor(3.6778, grad_fn=<MseLossBackward0>)\n",
            "epoch 0, loss 3.6777961254119873\n",
            "tensor(0.7677, grad_fn=<MseLossBackward0>)\n",
            "epoch 1, loss 0.7677470445632935\n",
            "tensor(0.7232, grad_fn=<MseLossBackward0>)\n",
            "epoch 2, loss 0.723159670829773\n",
            "tensor(0.7225, grad_fn=<MseLossBackward0>)\n",
            "epoch 3, loss 0.7224764823913574\n",
            "tensor(0.7225, grad_fn=<MseLossBackward0>)\n",
            "epoch 4, loss 0.722465991973877\n",
            "tensor(0.7225, grad_fn=<MseLossBackward0>)\n",
            "epoch 5, loss 0.7224658131599426\n",
            "tensor(0.7225, grad_fn=<MseLossBackward0>)\n",
            "epoch 6, loss 0.7224657535552979\n",
            "tensor(0.7225, grad_fn=<MseLossBackward0>)\n",
            "epoch 7, loss 0.7224657535552979\n",
            "tensor(0.7225, grad_fn=<MseLossBackward0>)\n",
            "epoch 8, loss 0.7224657535552979\n",
            "tensor(0.7225, grad_fn=<MseLossBackward0>)\n",
            "epoch 9, loss 0.7224656939506531\n",
            "tensor(0.7225, grad_fn=<MseLossBackward0>)\n",
            "epoch 10, loss 0.7224656939506531\n",
            "tensor(0.7225, grad_fn=<MseLossBackward0>)\n",
            "epoch 11, loss 0.7224656939506531\n",
            "tensor(0.7225, grad_fn=<MseLossBackward0>)\n",
            "epoch 12, loss 0.7224656939506531\n",
            "tensor(0.7225, grad_fn=<MseLossBackward0>)\n",
            "epoch 13, loss 0.7224656343460083\n",
            "tensor(0.7225, grad_fn=<MseLossBackward0>)\n",
            "epoch 14, loss 0.7224656343460083\n",
            "tensor(0.7225, grad_fn=<MseLossBackward0>)\n",
            "epoch 15, loss 0.7224655747413635\n",
            "tensor(0.7225, grad_fn=<MseLossBackward0>)\n",
            "epoch 16, loss 0.7224655747413635\n",
            "tensor(0.7225, grad_fn=<MseLossBackward0>)\n",
            "epoch 17, loss 0.7224655151367188\n",
            "tensor(0.7225, grad_fn=<MseLossBackward0>)\n",
            "epoch 18, loss 0.7224655151367188\n",
            "tensor(0.7225, grad_fn=<MseLossBackward0>)\n",
            "epoch 19, loss 0.7224655151367188\n",
            "tensor(0.7225, grad_fn=<MseLossBackward0>)\n",
            "epoch 20, loss 0.7224653959274292\n",
            "tensor(0.7225, grad_fn=<MseLossBackward0>)\n",
            "epoch 21, loss 0.7224653959274292\n",
            "tensor(0.7225, grad_fn=<MseLossBackward0>)\n",
            "epoch 22, loss 0.7224653959274292\n",
            "tensor(0.7225, grad_fn=<MseLossBackward0>)\n",
            "epoch 23, loss 0.722465455532074\n",
            "tensor(0.7225, grad_fn=<MseLossBackward0>)\n",
            "epoch 24, loss 0.7224653959274292\n",
            "tensor(0.7225, grad_fn=<MseLossBackward0>)\n",
            "epoch 25, loss 0.7224653959274292\n",
            "tensor(0.7225, grad_fn=<MseLossBackward0>)\n",
            "epoch 26, loss 0.7224652767181396\n",
            "tensor(0.7225, grad_fn=<MseLossBackward0>)\n",
            "epoch 27, loss 0.7224653363227844\n",
            "tensor(0.7225, grad_fn=<MseLossBackward0>)\n",
            "epoch 28, loss 0.7224652171134949\n",
            "tensor(0.7225, grad_fn=<MseLossBackward0>)\n",
            "epoch 29, loss 0.7224652767181396\n",
            "tensor(0.7225, grad_fn=<MseLossBackward0>)\n",
            "epoch 30, loss 0.7224652171134949\n",
            "tensor(0.7225, grad_fn=<MseLossBackward0>)\n",
            "epoch 31, loss 0.7224652171134949\n",
            "tensor(0.7225, grad_fn=<MseLossBackward0>)\n",
            "epoch 32, loss 0.7224651575088501\n",
            "tensor(0.7225, grad_fn=<MseLossBackward0>)\n",
            "epoch 33, loss 0.7224651575088501\n",
            "tensor(0.7225, grad_fn=<MseLossBackward0>)\n",
            "epoch 34, loss 0.7224650979042053\n",
            "tensor(0.7225, grad_fn=<MseLossBackward0>)\n",
            "epoch 35, loss 0.7224651575088501\n",
            "tensor(0.7225, grad_fn=<MseLossBackward0>)\n",
            "epoch 36, loss 0.7224650979042053\n",
            "tensor(0.7225, grad_fn=<MseLossBackward0>)\n",
            "epoch 37, loss 0.7224650382995605\n",
            "tensor(0.7225, grad_fn=<MseLossBackward0>)\n",
            "epoch 38, loss 0.7224649786949158\n",
            "tensor(0.7225, grad_fn=<MseLossBackward0>)\n",
            "epoch 39, loss 0.7224650382995605\n",
            "tensor(0.7225, grad_fn=<MseLossBackward0>)\n",
            "epoch 40, loss 0.7224650382995605\n",
            "tensor(0.7225, grad_fn=<MseLossBackward0>)\n",
            "epoch 41, loss 0.7224650382995605\n",
            "tensor(0.7225, grad_fn=<MseLossBackward0>)\n",
            "epoch 42, loss 0.722464919090271\n",
            "tensor(0.7225, grad_fn=<MseLossBackward0>)\n",
            "epoch 43, loss 0.722464919090271\n",
            "tensor(0.7225, grad_fn=<MseLossBackward0>)\n",
            "epoch 44, loss 0.722464919090271\n",
            "tensor(0.7225, grad_fn=<MseLossBackward0>)\n",
            "epoch 45, loss 0.722464919090271\n",
            "tensor(0.7225, grad_fn=<MseLossBackward0>)\n",
            "epoch 46, loss 0.722464919090271\n",
            "tensor(0.7225, grad_fn=<MseLossBackward0>)\n",
            "epoch 47, loss 0.7224647998809814\n",
            "tensor(0.7225, grad_fn=<MseLossBackward0>)\n",
            "epoch 48, loss 0.7224647998809814\n",
            "tensor(0.7225, grad_fn=<MseLossBackward0>)\n",
            "epoch 49, loss 0.7224647998809814\n",
            "tensor(0.7225, grad_fn=<MseLossBackward0>)\n",
            "epoch 50, loss 0.7224647998809814\n",
            "tensor(0.7225, grad_fn=<MseLossBackward0>)\n",
            "epoch 51, loss 0.7224646806716919\n",
            "tensor(0.7225, grad_fn=<MseLossBackward0>)\n",
            "epoch 52, loss 0.7224647402763367\n",
            "tensor(0.7225, grad_fn=<MseLossBackward0>)\n",
            "epoch 53, loss 0.7224647402763367\n",
            "tensor(0.7225, grad_fn=<MseLossBackward0>)\n",
            "epoch 54, loss 0.7224646806716919\n",
            "tensor(0.7225, grad_fn=<MseLossBackward0>)\n",
            "epoch 55, loss 0.7224646806716919\n",
            "tensor(0.7225, grad_fn=<MseLossBackward0>)\n",
            "epoch 56, loss 0.7224646210670471\n",
            "tensor(0.7225, grad_fn=<MseLossBackward0>)\n",
            "epoch 57, loss 0.7224645614624023\n",
            "tensor(0.7225, grad_fn=<MseLossBackward0>)\n",
            "epoch 58, loss 0.7224645614624023\n",
            "tensor(0.7225, grad_fn=<MseLossBackward0>)\n",
            "epoch 59, loss 0.7224646210670471\n",
            "tensor(0.7225, grad_fn=<MseLossBackward0>)\n",
            "epoch 60, loss 0.7224644422531128\n",
            "tensor(0.7225, grad_fn=<MseLossBackward0>)\n",
            "epoch 61, loss 0.7224645614624023\n",
            "tensor(0.7225, grad_fn=<MseLossBackward0>)\n",
            "epoch 62, loss 0.7224645614624023\n",
            "tensor(0.7225, grad_fn=<MseLossBackward0>)\n",
            "epoch 63, loss 0.7224645018577576\n",
            "tensor(0.7225, grad_fn=<MseLossBackward0>)\n",
            "epoch 64, loss 0.7224644422531128\n",
            "tensor(0.7225, grad_fn=<MseLossBackward0>)\n",
            "epoch 65, loss 0.722464382648468\n",
            "tensor(0.7225, grad_fn=<MseLossBackward0>)\n",
            "epoch 66, loss 0.7224644422531128\n",
            "tensor(0.7225, grad_fn=<MseLossBackward0>)\n",
            "epoch 67, loss 0.7224644422531128\n",
            "tensor(0.7225, grad_fn=<MseLossBackward0>)\n",
            "epoch 68, loss 0.722464382648468\n",
            "tensor(0.7225, grad_fn=<MseLossBackward0>)\n",
            "epoch 69, loss 0.722464382648468\n",
            "tensor(0.7225, grad_fn=<MseLossBackward0>)\n",
            "epoch 70, loss 0.7224643230438232\n",
            "tensor(0.7225, grad_fn=<MseLossBackward0>)\n",
            "epoch 71, loss 0.7224643230438232\n",
            "tensor(0.7225, grad_fn=<MseLossBackward0>)\n",
            "epoch 72, loss 0.7224642634391785\n",
            "tensor(0.7225, grad_fn=<MseLossBackward0>)\n",
            "epoch 73, loss 0.7224642634391785\n",
            "tensor(0.7225, grad_fn=<MseLossBackward0>)\n",
            "epoch 74, loss 0.7224642038345337\n",
            "tensor(0.7225, grad_fn=<MseLossBackward0>)\n",
            "epoch 75, loss 0.7224642038345337\n",
            "tensor(0.7225, grad_fn=<MseLossBackward0>)\n",
            "epoch 76, loss 0.7224642038345337\n",
            "tensor(0.7225, grad_fn=<MseLossBackward0>)\n",
            "epoch 77, loss 0.7224640846252441\n",
            "tensor(0.7225, grad_fn=<MseLossBackward0>)\n",
            "epoch 78, loss 0.7224641442298889\n",
            "tensor(0.7225, grad_fn=<MseLossBackward0>)\n",
            "epoch 79, loss 0.7224640846252441\n",
            "tensor(0.7225, grad_fn=<MseLossBackward0>)\n",
            "epoch 80, loss 0.7224640846252441\n",
            "tensor(0.7225, grad_fn=<MseLossBackward0>)\n",
            "epoch 81, loss 0.7224640846252441\n",
            "tensor(0.7225, grad_fn=<MseLossBackward0>)\n",
            "epoch 82, loss 0.7224640250205994\n",
            "tensor(0.7225, grad_fn=<MseLossBackward0>)\n",
            "epoch 83, loss 0.7224640250205994\n",
            "tensor(0.7225, grad_fn=<MseLossBackward0>)\n",
            "epoch 84, loss 0.7224640250205994\n",
            "tensor(0.7225, grad_fn=<MseLossBackward0>)\n",
            "epoch 85, loss 0.7224640250205994\n",
            "tensor(0.7225, grad_fn=<MseLossBackward0>)\n",
            "epoch 86, loss 0.7224640250205994\n",
            "tensor(0.7225, grad_fn=<MseLossBackward0>)\n",
            "epoch 87, loss 0.7224639058113098\n",
            "tensor(0.7225, grad_fn=<MseLossBackward0>)\n",
            "epoch 88, loss 0.7224639654159546\n",
            "tensor(0.7225, grad_fn=<MseLossBackward0>)\n",
            "epoch 89, loss 0.722463846206665\n",
            "tensor(0.7225, grad_fn=<MseLossBackward0>)\n",
            "epoch 90, loss 0.7224639058113098\n",
            "tensor(0.7225, grad_fn=<MseLossBackward0>)\n",
            "epoch 91, loss 0.7224639058113098\n",
            "tensor(0.7225, grad_fn=<MseLossBackward0>)\n",
            "epoch 92, loss 0.722463846206665\n",
            "tensor(0.7225, grad_fn=<MseLossBackward0>)\n",
            "epoch 93, loss 0.722463846206665\n",
            "tensor(0.7225, grad_fn=<MseLossBackward0>)\n",
            "epoch 94, loss 0.722463846206665\n",
            "tensor(0.7225, grad_fn=<MseLossBackward0>)\n",
            "epoch 95, loss 0.7224637866020203\n",
            "tensor(0.7225, grad_fn=<MseLossBackward0>)\n",
            "epoch 96, loss 0.7224637269973755\n",
            "tensor(0.7225, grad_fn=<MseLossBackward0>)\n",
            "epoch 97, loss 0.7224637269973755\n",
            "tensor(0.7225, grad_fn=<MseLossBackward0>)\n",
            "epoch 98, loss 0.7224637269973755\n",
            "tensor(0.7225, grad_fn=<MseLossBackward0>)\n",
            "epoch 99, loss 0.7224637269973755\n"
          ]
        }
      ],
      "source": [
        "for epoch in range(epochs):\n",
        "    # Converting inputs and labels to Variable\n",
        "    if torch.cuda.is_available():\n",
        "        inputs = Variable(torch.from_numpy(x_train).cuda())\n",
        "        labels = Variable(torch.from_numpy(y_train).cuda())\n",
        "    else:\n",
        "        inputs = Variable(torch.from_numpy(x_train))\n",
        "        labels = Variable(torch.from_numpy(y_train))\n",
        "\n",
        "    optimizer.zero_grad()\n",
        "\n",
        "    outputs = model(inputs)\n",
        "\n",
        "    loss = criterion(outputs, labels)\n",
        "    print(loss)\n",
        "    loss.backward()\n",
        "\n",
        "    optimizer.step()\n",
        "\n",
        "    print('epoch {}, loss {}'.format(epoch, loss.item()))"
      ],
      "id": "D0lv04ImEfLz"
    },
    {
      "cell_type": "code",
      "execution_count": null,
      "metadata": {
        "colab": {
          "base_uri": "https://localhost:8080/",
          "height": 384
        },
        "id": "BhA6ahP-Ewd0",
        "outputId": "b161e1ab-2c46-45d1-c406-ff911516aff0"
      },
      "outputs": [
        {
          "name": "stdout",
          "output_type": "stream",
          "text": [
            "[[1.3852675]\n",
            " [1.8800396]\n",
            " [1.8800396]\n",
            " ...\n",
            " [1.9842023]\n",
            " [1.9581615]\n",
            " [1.7237958]]\n"
          ]
        },
        {
          "data": {
            "image/png": "[encoded data removed]",
            "text/plain": [
              "<Figure size 432x288 with 1 Axes>"
            ]
          },
          "metadata": {},
          "output_type": "display_data"
        }
      ],
      "source": [
        "with torch.no_grad(): # we don't need gradients in the testing phase\n",
        "    if torch.cuda.is_available():\n",
        "        predicted = model(Variable(torch.from_numpy(x_train).cuda())).cpu().data.numpy()\n",
        "    else:\n",
        "        predicted = model(Variable(torch.from_numpy(x_train))).data.numpy()\n",
        "    print(predicted)\n",
        "\n",
        "plt.clf()\n",
        "plt.plot(x_train, y_train, 'go', label='True data', alpha=0.5)\n",
        "plt.plot(x_train, predicted, '--', label='Predictions', alpha=0.5)\n",
        "plt.legend(loc='best')\n",
        "plt.show()"
      ],
      "id": "BhA6ahP-Ewd0"
    }
  ],
  "metadata": {
    "colab": {
      "collapsed_sections": [],
      "name": "DSI_Q2new.ipynb",
      "provenance": []
    },
    "kernelspec": {
      "display_name": "Python 3 (ipykernel)",
      "language": "python",
      "name": "python3"
    },
    "language_info": {
      "codemirror_mode": {
        "name": "ipython",
        "version": 3
      },
      "file_extension": ".py",
      "mimetype": "text/x-python",
      "name": "python",
      "nbconvert_exporter": "python",
      "pygments_lexer": "ipython3",
      "version": "3.9.7"
    }
  },
  "nbformat": 4,
  "nbformat_minor": 5
}